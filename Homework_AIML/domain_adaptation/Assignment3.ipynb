{
  "nbformat": 4,
  "nbformat_minor": 0,
  "metadata": {
    "colab": {
      "name": "Assignment3.ipynb",
      "provenance": [],
      "collapsed_sections": []
    },
    "kernelspec": {
      "name": "python3",
      "display_name": "Python 3"
    },
    "accelerator": "GPU"
  },
  "cells": [
    {
      "cell_type": "markdown",
      "metadata": {
        "id": "c9QcGnGPdX2C",
        "colab_type": "text"
      },
      "source": [
        "\n",
        "**Install requirements**"
      ]
    },
    {
      "cell_type": "code",
      "metadata": {
        "id": "k9O3aM3Tb28q",
        "colab_type": "code",
        "colab": {}
      },
      "source": [
        "#!pip3 install 'torch==1.3.1'\n",
        "#!pip3 install 'torchvision==0.4.2'\n",
        "#!pip3 install 'Pillow-SIMD'\n",
        "#!pip3 install 'tqdm'\n",
        "#!pip3 install pillow==4.1.1 #if error: module 'PIL._webp' has no attribute 'HAVE_WEBPANIM'"
      ],
      "execution_count": 0,
      "outputs": []
    },
    {
      "cell_type": "markdown",
      "metadata": {
        "id": "fo942LMOdlh4",
        "colab_type": "text"
      },
      "source": [
        "**Import libraries**"
      ]
    },
    {
      "cell_type": "code",
      "metadata": {
        "id": "DokFOdD1dJEl",
        "colab_type": "code",
        "colab": {}
      },
      "source": [
        "import os\n",
        "import logging\n",
        "\n",
        "import torch\n",
        "import torch.nn as nn\n",
        "import torch.optim as optim\n",
        "from torch.utils.data import Subset, DataLoader\n",
        "from torch.backends import cudnn\n",
        "from torch.autograd import Function\n",
        "\n",
        "import torchvision\n",
        "from torchvision import transforms\n",
        "from torchvision.models import alexnet\n",
        "\n",
        "from PIL import Image\n",
        "from tqdm import tqdm\n",
        "import matplotlib.pyplot as plt\n",
        "import numpy as np\n",
        "import random\n",
        "import collections\n",
        "from mpl_toolkits import mplot3d\n",
        "import copy"
      ],
      "execution_count": 0,
      "outputs": []
    },
    {
      "cell_type": "markdown",
      "metadata": {
        "id": "OIDLJuIXK_vh",
        "colab_type": "text"
      },
      "source": [
        "**Set Arguments**"
      ]
    },
    {
      "cell_type": "code",
      "metadata": {
        "id": "d5PkYfqfK_SA",
        "colab_type": "code",
        "colab": {}
      },
      "source": [
        "DEVICE = 'cuda' # 'cuda' or 'cpu'\n",
        "\n",
        "NUM_CLASSES = 7 # 7 classes and 4 domains: Photo, Art painting, Cartoon, Sketch\n",
        "\n",
        "BATCH_SIZE = 64  # Higher batch sizes allows for larger learning rates. An empirical heuristic suggests that, when changing\n",
        "                     # the batch size, learning rate should change by the same factor to have comparable results\n",
        "\n",
        "LR = 5e-4          # The initial Learning Rate\n",
        "MOMENTUM = 0.9       # Hyperparameter for SGD, keep this at 0.9 when using SGD\n",
        "WEIGHT_DECAY = 5e-5  # Regularization, you can keep this at the default\n",
        "\n",
        "NUM_EPOCHS = 15      # Total number of training epochs (iterations over dataset)\n",
        "STEP_SIZE = 10       # How many epochs before decreasing learning rate (if using a step-down policy)\n",
        "GAMMA = 0.1          # Multiplicative factor for learning rate step-down\n",
        "\n",
        "LOG_FREQUENCY = 5"
      ],
      "execution_count": 0,
      "outputs": []
    },
    {
      "cell_type": "markdown",
      "metadata": {
        "id": "9gwii0TBHvzh",
        "colab_type": "text"
      },
      "source": [
        "**Define Data Preprocessing**"
      ]
    },
    {
      "cell_type": "code",
      "metadata": {
        "id": "QUDdw4j2H0Mc",
        "colab_type": "code",
        "colab": {}
      },
      "source": [
        "# Define transforms for training phase\n",
        "train_transform = transforms.Compose([transforms.Resize(256),      # Resizes short size of the PIL image to 256\n",
        "                                      transforms.CenterCrop(224),  # Crops a central square patch of the image\n",
        "                                                                   # 224 because torchvision's AlexNet needs a 224x224 input!\n",
        "                                                                   # Remember this when applying different transformations, otherwise you get an error\n",
        "                                      transforms.ToTensor(), # Turn PIL Image to torch.Tensor\n",
        "                                      transforms.Normalize((0.485, 0.456, 0.406), (0.229, 0.224, 0.225)) # Normalizes tensor with mean and standard deviation\n",
        "])"
      ],
      "execution_count": 0,
      "outputs": []
    },
    {
      "cell_type": "markdown",
      "metadata": {
        "id": "2qYIHPzYLY7i",
        "colab_type": "text"
      },
      "source": [
        "**Prepare Dataset**"
      ]
    },
    {
      "cell_type": "code",
      "metadata": {
        "id": "QfVq_uDHLbsR",
        "colab_type": "code",
        "colab": {}
      },
      "source": [
        "# Clone github repository with data\n",
        "if not os.path.isdir('./Homework3-PACS'):\n",
        "  !git clone https://github.com/MachineLearning2020/Homework3-PACS\n",
        "\n",
        "DATA_DIR = 'Homework3-PACS/PACS'\n",
        "\n",
        "# Prepare Pytorch train/test Datasets\n",
        "dataset_photo = torchvision.datasets.ImageFolder(os.path.join(DATA_DIR, \"photo\"), transform=train_transform) #Photo\n",
        "\n",
        "dataset_art = torchvision.datasets.ImageFolder(os.path.join(DATA_DIR, \"art_painting\"), transform=train_transform) #Art Painting\n",
        "dataset_cartoon = torchvision.datasets.ImageFolder(os.path.join(DATA_DIR, \"cartoon\"), transform=train_transform) #Cartoon\n",
        "dataset_sketch = torchvision.datasets.ImageFolder(os.path.join(DATA_DIR, \"sketch\"), transform=train_transform) #Sketch\n",
        "\n",
        "# Check dataset sizes\n",
        "print('Photo: {}'.format(len(dataset_photo)))\n",
        "print('Art Paintings: {}'.format(len(dataset_art)))\n",
        "print('Cartoon: {}'.format(len(dataset_cartoon)))\n",
        "print('Sketch: {}'.format(len(dataset_sketch)))"
      ],
      "execution_count": 0,
      "outputs": []
    },
    {
      "cell_type": "markdown",
      "metadata": {
        "id": "FYEDQ7Z21ldN",
        "colab_type": "text"
      },
      "source": [
        "**Prepare Dataloaders**"
      ]
    },
    {
      "cell_type": "code",
      "metadata": {
        "id": "VriRw8SI1nle",
        "colab_type": "code",
        "colab": {}
      },
      "source": [
        "# Dataloaders iterate over pytorch datasets and transparently provide useful functions (e.g. parallelization and shuffling)\n",
        "dataloader_photo = DataLoader(dataset_photo, batch_size=BATCH_SIZE, shuffle=True, num_workers=4, drop_last=True)\n",
        "\n",
        "dataloader_art = DataLoader(dataset_art, batch_size=BATCH_SIZE, shuffle=True, num_workers=4, drop_last=True)\n",
        "dataloader_cartoon = DataLoader(dataset_cartoon, batch_size=BATCH_SIZE, shuffle=True, num_workers=4, drop_last=True)\n",
        "dataloader_sketch = DataLoader(dataset_sketch, batch_size=BATCH_SIZE, shuffle=True, num_workers=4, drop_last=True)"
      ],
      "execution_count": 0,
      "outputs": []
    },
    {
      "cell_type": "markdown",
      "metadata": {
        "id": "R_Gktn8ybSDu",
        "colab_type": "text"
      },
      "source": [
        "**Define Network**\n"
      ]
    },
    {
      "cell_type": "code",
      "metadata": {
        "id": "jKnPMD9zbcXI",
        "colab_type": "code",
        "colab": {}
      },
      "source": [
        "from torch.hub import load_state_dict_from_url\n",
        "model_urls = {\n",
        "    'alexnet': 'https://download.pytorch.org/models/alexnet-owt-4df8aa71.pth',\n",
        "}\n",
        "\n",
        "class ReverseLayerF(Function):\n",
        "    # Forwards identity\n",
        "    # Sends backward reversed gradients\n",
        "    @staticmethod\n",
        "    def forward(ctx, x, alpha):\n",
        "        ctx.alpha = alpha\n",
        "        return x.view_as(x)\n",
        "\n",
        "    @staticmethod\n",
        "    def backward(ctx, grad_output):\n",
        "        output = grad_output.neg() * ctx.alpha\n",
        "        return output, None\n",
        "\n",
        "class AlexNet(nn.Module):\n",
        "\n",
        "    def __init__(self, num_classes=1000):\n",
        "        super(AlexNet, self).__init__()\n",
        "        self.features = nn.Sequential(\n",
        "            nn.Conv2d(3, 64, kernel_size=11, stride=4, padding=2),\n",
        "            nn.ReLU(inplace=True),\n",
        "            nn.MaxPool2d(kernel_size=3, stride=2),\n",
        "            nn.Conv2d(64, 192, kernel_size=5, padding=2),\n",
        "            nn.ReLU(inplace=True),\n",
        "            nn.MaxPool2d(kernel_size=3, stride=2),\n",
        "            nn.Conv2d(192, 384, kernel_size=3, padding=1),\n",
        "            nn.ReLU(inplace=True),\n",
        "            nn.Conv2d(384, 256, kernel_size=3, padding=1),\n",
        "            nn.ReLU(inplace=True),\n",
        "            nn.Conv2d(256, 256, kernel_size=3, padding=1),\n",
        "            nn.ReLU(inplace=True),\n",
        "            nn.MaxPool2d(kernel_size=3, stride=2),\n",
        "        )\n",
        "        self.avgpool = nn.AdaptiveAvgPool2d((6, 6))\n",
        "        self.classifier = nn.Sequential(\n",
        "            nn.Dropout(),\n",
        "            nn.Linear(256 * 6 * 6, 4096),\n",
        "            nn.ReLU(inplace=True),\n",
        "            nn.Dropout(),\n",
        "            nn.Linear(4096, 4096),\n",
        "            nn.ReLU(inplace=True),\n",
        "            nn.Linear(4096, num_classes),\n",
        "        )\n",
        "        self.Gd = nn.Sequential(\n",
        "            nn.Dropout(),\n",
        "            nn.Linear(256 * 6 * 6, 4096),\n",
        "            nn.ReLU(inplace=True),\n",
        "            nn.Dropout(),\n",
        "            nn.Linear(4096, 4096),\n",
        "            nn.ReLU(inplace=True),\n",
        "            nn.Linear(4096, 2),\n",
        "        )\n",
        "\n",
        "    def forward(self, x, alpha=None):\n",
        "        x = self.features(x)\n",
        "        x = self.avgpool(x)\n",
        "        x = torch.flatten(x, 1)\n",
        "        if alpha is None:\n",
        "          x = self.classifier(x)\n",
        "        else:\n",
        "          x = ReverseLayerF.apply(x, alpha)\n",
        "          x = self.Gd(x) \n",
        "        return x\n",
        "\n",
        "\n",
        "def alexnet(pretrained=False, progress=True, **kwargs):\n",
        "    r\"\"\"AlexNet model architecture from the\n",
        "    `\"One weird trick...\" <https://arxiv.org/abs/1404.5997>`_ paper.\n",
        "\n",
        "    Args:\n",
        "        pretrained (bool): If True, returns a model pre-trained on ImageNet\n",
        "        progress (bool): If True, displays a progress bar of the download to stderr\n",
        "    \"\"\"\n",
        "    model = AlexNet(**kwargs)\n",
        "    if pretrained:\n",
        "        state_dict = load_state_dict_from_url(model_urls['alexnet'],\n",
        "                                              progress=progress)\n",
        "        model.load_state_dict(state_dict, strict=False)\n",
        "        model.Gd[1].weight.data = model.classiﬁer[1].weight.data\n",
        "        model.Gd[1].bias.data = model.classiﬁer[1].bias.data\n",
        "        model.Gd[4].weight.data = model.classiﬁer[4].weight.data\n",
        "        model.Gd[4].bias.data = model.classiﬁer[4].bias.data\n",
        "    return model"
      ],
      "execution_count": 0,
      "outputs": []
    },
    {
      "cell_type": "markdown",
      "metadata": {
        "id": "gbZ1t5Qs2z4j",
        "colab_type": "text"
      },
      "source": [
        "**Prepare Network**"
      ]
    },
    {
      "cell_type": "code",
      "metadata": {
        "id": "exHUjtXa22DN",
        "colab_type": "code",
        "colab": {}
      },
      "source": [
        "net = alexnet() # Loading AlexNet model\n",
        "\n",
        "# AlexNet has 1000 output neurons, corresponding to the 1000 ImageNet's classes\n",
        "# We need 7 outputs for PACS\n",
        "net.classifier[6] = nn.Linear(4096, NUM_CLASSES) # nn.Linear in pytorch is a fully connected layer\n",
        "                                                 # The convolutional layer is nn.Conv2d\n",
        "\n",
        "# We just changed the last layer of AlexNet with a new fully connected layer with 7 outputs"
      ],
      "execution_count": 0,
      "outputs": []
    },
    {
      "cell_type": "markdown",
      "metadata": {
        "id": "KEyL3H_R4qCf",
        "colab_type": "text"
      },
      "source": [
        "**Prepare Training**"
      ]
    },
    {
      "cell_type": "code",
      "metadata": {
        "id": "9sjq00G94tSc",
        "colab_type": "code",
        "colab": {}
      },
      "source": [
        "# Define loss function\n",
        "criterion = nn.CrossEntropyLoss() # for classification, we use Cross Entropy\n",
        "\n",
        "parameters_to_optimize = net.parameters() # optimize over all the parameters \n",
        "\n",
        "# Define optimizer\n",
        "# An optimizer updates the weights based on loss\n",
        "# We use SGD with momentum\n",
        "optimizer = optim.SGD(parameters_to_optimize, lr=LR, momentum=MOMENTUM, weight_decay=WEIGHT_DECAY)\n",
        "\n",
        "# Define scheduler\n",
        "# A scheduler dynamically changes learning rate\n",
        "# The most common schedule is the step(-down), which multiplies learning rate by gamma every STEP_SIZE epochs\n",
        "scheduler = optim.lr_scheduler.StepLR(optimizer, step_size=STEP_SIZE, gamma=GAMMA)"
      ],
      "execution_count": 0,
      "outputs": []
    },
    {
      "cell_type": "code",
      "metadata": {
        "id": "_3prnVstVezR",
        "colab_type": "code",
        "colab": {}
      },
      "source": [
        "def train_step(net, second_dataloader, criterion, optimizer, alpha, current_step, train_losses, train_accuracies):\n",
        "  # Iterate over the dataset\n",
        "  step = 1\n",
        "  train_losses[0].append(0); train_losses[1].append(0); train_losses[2].append(0)\n",
        "  train_accuracies[0].append(0); train_accuracies[1].append(0); train_accuracies[2].append(0)\n",
        "  \n",
        "  for data_photo, data_art in zip(dataloader_photo, second_dataloader):\n",
        "\n",
        "    #art_images = torch.FloatTensor(next(iter(dataloader_art)))\n",
        "    # Bring data over the device of choice\n",
        "    images = data_photo[0].to(DEVICE)\n",
        "    labels = data_photo[1].to(DEVICE)\n",
        "    art_images = data_art[0].to(DEVICE)\n",
        "\n",
        "    # PyTorch, by default, accumulates gradients after each backward pass\n",
        "    # We need to manually set the gradients to zero before starting a new iteration\n",
        "    optimizer.zero_grad() # Zero-ing the gradients\n",
        "\n",
        "    outputs_classifier = net(images) # Forward pass to the network\n",
        "    loss = criterion(outputs_classifier, labels) # Compute loss based on output and ground truth\n",
        "    _, preds = torch.max(outputs_classifier.data, 1) # Get predictions\n",
        "    train_losses[0][-1] += loss.item() # Update train losses\n",
        "    train_accuracies[0][-1] += torch.sum(preds == labels.data).data.item()/len(labels.data) #Update train accuracies\n",
        "    if current_step % LOG_FREQUENCY == 0: # Log loss and accuracy\n",
        "      print('\\tStep {}\\n,\\tClassifier: Loss = {}, Accuracy = {}%'.format(current_step, loss.item(), train_accuracies[0][-1]*100/step))\n",
        "    loss.backward()  # backward pass: computes gradients\n",
        "    \n",
        "    outputs_Gd_photo = net(images, alpha=alpha)\n",
        "    loss1 = criterion(outputs_Gd_photo, torch.LongTensor(np.ones(len(outputs_Gd_photo.data))).to(DEVICE)) # Compute loss based on output and ground truth\n",
        "    _, preds = torch.max(outputs_Gd_photo.data, 1) # Get predictions\n",
        "    train_losses[1][-1] += loss1.item() # Update train losses\n",
        "    train_accuracies[1][-1] += torch.sum(preds == 1).data.item()/len(preds) #Update train accuracies\n",
        "    if current_step % LOG_FREQUENCY == 0: # Log loss and accuracy\n",
        "      print('\\t\\tGd photo: Loss {}, Accuracy = {}%'.format(loss1.item(), train_accuracies[1][-1]*100/step))\n",
        "    loss1.backward()\n",
        "\n",
        "    outputs_Gd_art = net(art_images, alpha=alpha)\n",
        "    loss2 = criterion(outputs_Gd_art, torch.LongTensor(np.zeros(len(outputs_Gd_art.data))).to(DEVICE)) # Compute loss based on output and ground truth\n",
        "    _, preds = torch.max(outputs_Gd_art.data, 1) # Get predictions\n",
        "    train_losses[2][-1] += loss2.item() # Update train losses\n",
        "    train_accuracies[2][-1] += torch.sum(preds == 0).data.item()/len(preds) #Update train accuracies\n",
        "    if current_step % LOG_FREQUENCY == 0: # Log loss and accuracy\n",
        "      print('\\t\\tGd art: Loss {}, Accuracy = {}%'.format(loss2.item(), train_accuracies[2][-1]*100/step))\n",
        "    loss2.backward()\n",
        "    \n",
        "    optimizer.step() # update weights based on accumulated gradients\n",
        "\n",
        "    current_step += 1\n",
        "    step += 1\n",
        "\n",
        "  train_losses[0][-1] /= step; train_losses[1][-1] /= step; train_losses[2][-1] /= step\n",
        "  train_accuracies[0][-1] /= step; train_accuracies[1][-1] /= step; train_accuracies[2][-1] /= step\n",
        "\n",
        "  return current_step, train_losses, train_accuracies"
      ],
      "execution_count": 0,
      "outputs": []
    },
    {
      "cell_type": "code",
      "metadata": {
        "id": "zeV_hreqHpw8",
        "colab_type": "code",
        "colab": {}
      },
      "source": [
        "def valid_step(net, criterion, valid_losses, valid_accuracies, valid_dataloader, current_step):\n",
        "  step = 1\n",
        "  valid_losses.append(0)\n",
        "  valid_accuracies.append(0)\n",
        "  \n",
        "  for images, labels in valid_dataloader:\n",
        "\n",
        "    images = images.to(DEVICE)\n",
        "    labels = labels.to(DEVICE)\n",
        "\n",
        "    # Forward Pass\n",
        "    outputs_valid = net(images)\n",
        "\n",
        "    # Get predictions\n",
        "    _, preds = torch.max(outputs_valid.data, 1)\n",
        "\n",
        "    # Update valid losses\n",
        "    valid_losses[-1] += criterion(outputs_valid, labels).item()\n",
        "    #Update valid accuracies\n",
        "    valid_accuracies[-1] += torch.sum(preds == labels.data).data.item()/len(labels.data)\n",
        "\n",
        "    current_step += 1\n",
        "    step += 1\n",
        "\n",
        "  valid_losses[-1] /= step\n",
        "  valid_accuracies[-1] /= step\n",
        "\n",
        "  print('\\tValid_loss = {}, Valid_accuracy = {}%'.format(valid_losses[-1], valid_accuracies[-1]*100))\n",
        "\n",
        "  return valid_losses, valid_accuracies, current_step"
      ],
      "execution_count": 0,
      "outputs": []
    },
    {
      "cell_type": "code",
      "metadata": {
        "id": "Di_n6lPZJHmZ",
        "colab_type": "code",
        "colab": {}
      },
      "source": [
        "def train_step_without_adaption(net, criterion, optimizer, current_step, train_losses, train_accuracies, train_dataloader):\n",
        "  # Iterate over the dataset\n",
        "  step = 1\n",
        "  train_losses.append(0)\n",
        "  train_accuracies.append(0)\n",
        "  \n",
        "  for images, labels in train_dataloader:\n",
        "    # Bring data over the device of choice\n",
        "    images = images.to(DEVICE)\n",
        "    labels = labels.to(DEVICE)\n",
        "\n",
        "    # PyTorch, by default, accumulates gradients after each backward pass\n",
        "    # We need to manually set the gradients to zero before starting a new iteration\n",
        "    optimizer.zero_grad() # Zero-ing the gradients\n",
        "\n",
        "    # Forward pass to the network\n",
        "    outputs = net(images)\n",
        "\n",
        "    # Compute loss based on output and ground truth\n",
        "    loss = criterion(outputs, labels)\n",
        "\n",
        "    # Get predictions\n",
        "    _, preds = torch.max(outputs.data, 1)\n",
        "\n",
        "    # Update train losses\n",
        "    train_losses[-1] += loss.item()\n",
        "    #Update train accuracies\n",
        "    train_accuracies[-1] += torch.sum(preds == labels.data).data.item()/len(labels.data)\n",
        "\n",
        "    # Log loss and accuracy\n",
        "    if current_step % LOG_FREQUENCY == 0:\n",
        "      print('\\tStep {}, Loss {}, Accuracy = {}%'.format(current_step, loss.item(), train_accuracies[-1]*100/step))\n",
        "\n",
        "    # Compute gradients for each layer and update weights\n",
        "    loss.backward()  # backward pass: computes gradients\n",
        "    optimizer.step() # update weights based on accumulated gradients\n",
        "\n",
        "    current_step += 1\n",
        "    step += 1\n",
        "\n",
        "  train_losses[-1] /= step\n",
        "  train_accuracies[-1] /= step\n",
        "\n",
        "  return current_step, train_losses, train_accuracies"
      ],
      "execution_count": 0,
      "outputs": []
    },
    {
      "cell_type": "code",
      "metadata": {
        "id": "ZcoQ5fD49yT_",
        "colab_type": "code",
        "colab": {}
      },
      "source": [
        "def model_train(net, second_dataloader, optimizer, criterion, scheduler, stats, alpha=None, epochs=NUM_EPOCHS, validation=False, adaptation=False):\n",
        "  # By default, everything is loaded to cpu\n",
        "  net = net.to(DEVICE) # this will bring the network to GPU if DEVICE is cuda\n",
        "\n",
        "  cudnn.benchmark # Calling this optimizes runtime\n",
        "\n",
        "  current_step = 0\n",
        "  # Start iterating over the epochs\n",
        "  for epoch in range(epochs):\n",
        "\n",
        "    print('Starting epoch {}/{}, LR = {}'.format(epoch+1, epochs, scheduler.get_lr()))\n",
        "\n",
        "    net.train() # Sets module in training mode\n",
        "    if adaptation:\n",
        "      current_step, stats['train_losses'], stats['train_accuracies'] = train_step(net, second_dataloader, criterion, optimizer, alpha, current_step, stats['train_losses'], stats['train_accuracies'])\n",
        "    else:\n",
        "      current_step, stats['train_losses'], stats['train_accuracies'] = train_step_without_adaption(net, criterion, optimizer, current_step, stats['train_losses'], stats['train_accuracies'], dataloader_photo)\n",
        "    # Step the scheduler\n",
        "    scheduler.step()\n",
        "\n",
        "    if validation:\n",
        "      net.train(False) # Sets module in evaluation mode\n",
        "      stats['valid_losses'], stats['valid_accuracies'], current_step_valid = valid_step(net, criterion, stats['valid_losses'], stats['valid_accuracies'], second_dataloader, current_step)\n",
        "\n",
        "  return stats"
      ],
      "execution_count": 0,
      "outputs": []
    },
    {
      "cell_type": "code",
      "metadata": {
        "id": "V677lR8uIGPt",
        "colab_type": "code",
        "colab": {}
      },
      "source": [
        "def model_test(test_dataloader, net1, net2=None):\n",
        "  net1 = net1.to(DEVICE) # this will bring the network to GPU if DEVICE is cuda\n",
        "  net1.train(False) # Set Network to evaluation mode\n",
        "\n",
        "  step = 1\n",
        "\n",
        "  #If using two models\n",
        "  if net2 is not None:\n",
        "    for net in net2:\n",
        "      net = net.to(DEVICE)\n",
        "      net.train(False)\n",
        "\n",
        "  accuracy = 0\n",
        "  for images, labels in tqdm(test_dataloader):\n",
        "    images = images.to(DEVICE)\n",
        "    labels = labels.to(DEVICE)\n",
        "\n",
        "    # Forward Pass 1\n",
        "    outputs = net1(images).data\n",
        "\n",
        "    #Forward pass 2 and get predictions\n",
        "    if net2 is not None:\n",
        "      for net in net2:\n",
        "        outputs += net(images).data\n",
        "      _, preds = torch.max(outputs/(len(net2)+1), 1)\n",
        "    else:\n",
        "      _, preds = torch.max(outputs, 1)\n",
        "\n",
        "    # Update Corrects\n",
        "    accuracy += torch.sum(preds == labels.data).data.item()/ float(len(labels.data))\n",
        "\n",
        "    step += 1\n",
        "\n",
        "  accuracy /= step\n",
        "\n",
        "  print('Test Accuracy: {}%'.format(accuracy*100))"
      ],
      "execution_count": 0,
      "outputs": []
    },
    {
      "cell_type": "markdown",
      "metadata": {
        "id": "58mqDs5Fyr2r",
        "colab_type": "text"
      },
      "source": [
        "Creating methods to save and plot values"
      ]
    },
    {
      "cell_type": "code",
      "metadata": {
        "id": "kecpcdGv02ZS",
        "colab_type": "code",
        "colab": {}
      },
      "source": [
        "#Use to save values of hyper-parameters\n",
        "def save_values(valid_losses, valid_accuracies, second_param, best_values):\n",
        "  i = np.argmin(valid_losses)\n",
        "  if len(best_values) < 10:\n",
        "    best_values[valid_losses[i]] = (valid_accuracies[i], second_param)\n",
        "  elif list(best_values.keys())[0] > valid_losses[i]:\n",
        "    best_values.popitem()\n",
        "    best_values[valid_losses[i]] = (valid_accuracies[i], second_param)\n",
        "  return collections.OrderedDict(sorted(best_values.items()))"
      ],
      "execution_count": 0,
      "outputs": []
    },
    {
      "cell_type": "code",
      "metadata": {
        "id": "uaecEIXjlkVU",
        "colab_type": "code",
        "colab": {}
      },
      "source": [
        "def plot_2d(stats):\n",
        "  fig, (ax1, ax2) = plt.subplots(2)\n",
        "\n",
        "  #Plotting losses\n",
        "  ax1.plot(stats['train_losses'][0])  \n",
        "  ax1.plot(stats['train_losses'][1])\n",
        "  ax1.plot(stats['train_losses'][2])\n",
        "  #ax1.title(\"Model Loss\")  \n",
        "  ax1.set_ylabel(\"loss\")  \n",
        "  ax1.set_xlabel(\"epochs\")  \n",
        "  ax1.legend(['Classifier', 'Discriminator photo', 'Discriminator art'], loc='upper left')\n",
        "\n",
        "  #Plotting accuracies\n",
        "  ax2.plot(stats['train_accuracies'][0]) \n",
        "  ax2.plot(stats['train_accuracies'][1]) \n",
        "  ax2.plot(stats['train_accuracies'][2]) \n",
        "  #ax2.title(\"Model Accuracy\")  \n",
        "  ax2.set_ylabel(\"accuracy\")  \n",
        "  ax2.set_xlabel(\"epochs\")  \n",
        "  ax2.legend(['Classifier', 'Discriminator photo', 'Discriminator art'], loc='upper left')"
      ],
      "execution_count": 0,
      "outputs": []
    },
    {
      "cell_type": "code",
      "metadata": {
        "colab_type": "code",
        "id": "9mnUUaKoPGrl",
        "colab": {}
      },
      "source": [
        "def plot_2d_old(stats):\n",
        "  fig, (ax1, ax2) = plt.subplots(2)\n",
        "\n",
        "  #Plotting losses\n",
        "  ax1.plot(stats['train_losses'])  \n",
        "  ax1.plot(stats['valid_losses'])  \n",
        "  #ax1.title(\"Model Loss\")  \n",
        "  ax1.set_ylabel(\"loss\")  \n",
        "  ax1.set_xlabel(\"epochs\")  \n",
        "  ax1.legend(['train', 'valid'], loc='upper left')\n",
        "\n",
        "  #Plotting accuracies\n",
        "  ax2.plot(stats['train_accuracies'])  \n",
        "  ax2.plot(stats['valid_accuracies'])  \n",
        "  #ax2.title(\"Model Accuracy\")  \n",
        "  ax2.set_ylabel(\"accuracy\")  \n",
        "  ax2.set_xlabel(\"epochs\")  \n",
        "  ax2.legend(['train', 'valid'], loc='upper left')"
      ],
      "execution_count": 0,
      "outputs": []
    },
    {
      "cell_type": "code",
      "metadata": {
        "id": "w-hSNydR004o",
        "colab_type": "code",
        "colab": {}
      },
      "source": [
        "#Use to plot 3D plot a hyper-parameters / loss\n",
        "def D_plot(xdata, ydata, zdata, xlabel, ylabel, zlabel='loss'):\n",
        "  fig = plt.figure()\n",
        "  ax = plt.axes(projection=\"3d\")\n",
        "\n",
        "  # Data for three-dimensional scattered points\n",
        "  ax.scatter3D(xdata, ydata, zdata, cmap=\"Blues\")\n",
        "\n",
        "  ax.set_xlabel(xlabel)  \n",
        "  ax.set_ylabel(ylabel)\n",
        "  ax.set_zlabel(zlabel)"
      ],
      "execution_count": 0,
      "outputs": []
    },
    {
      "cell_type": "markdown",
      "metadata": {
        "id": "AxYUli9d9uYQ",
        "colab_type": "text"
      },
      "source": [
        "**Train without adaptation**"
      ]
    },
    {
      "cell_type": "code",
      "metadata": {
        "id": "TqVarf9Wjh_8",
        "colab_type": "code",
        "colab": {}
      },
      "source": [
        "#stats = {'train_losses': [], 'train_accuracies': []}"
      ],
      "execution_count": 0,
      "outputs": []
    },
    {
      "cell_type": "code",
      "metadata": {
        "id": "Uar8OGWkjvDv",
        "colab_type": "code",
        "colab": {}
      },
      "source": [
        "#stats = model_train(net, dataloader_art, optimizer, criterion, scheduler, stats)"
      ],
      "execution_count": 0,
      "outputs": []
    },
    {
      "cell_type": "code",
      "metadata": {
        "id": "jl4tY3RMjv1s",
        "colab_type": "code",
        "colab": {}
      },
      "source": [
        "#plot_2d(stats)"
      ],
      "execution_count": 0,
      "outputs": []
    },
    {
      "cell_type": "markdown",
      "metadata": {
        "id": "UsHFI-GAJd69",
        "colab_type": "text"
      },
      "source": [
        "**Test without adaptation**"
      ]
    },
    {
      "cell_type": "code",
      "metadata": {
        "id": "Lb8Wydpljial",
        "colab_type": "code",
        "colab": {}
      },
      "source": [
        "#model_test(dataloader_art, net)"
      ],
      "execution_count": 0,
      "outputs": []
    },
    {
      "cell_type": "markdown",
      "metadata": {
        "id": "g_RpnD37oPLb",
        "colab_type": "text"
      },
      "source": [
        "**Train with adaptation**"
      ]
    },
    {
      "cell_type": "code",
      "metadata": {
        "id": "42vkFKDwoSzz",
        "colab_type": "code",
        "colab": {}
      },
      "source": [
        "#stats = {'train_losses': [[], [], []], 'train_accuracies': [[], [], []]}"
      ],
      "execution_count": 0,
      "outputs": []
    },
    {
      "cell_type": "code",
      "metadata": {
        "id": "DU1oQLqLoYiS",
        "colab_type": "code",
        "colab": {}
      },
      "source": [
        "#stats = model_train(net, dataloader_art, optimizer, criterion, scheduler, stats, alpha=0.5, adaptation=True)"
      ],
      "execution_count": 0,
      "outputs": []
    },
    {
      "cell_type": "code",
      "metadata": {
        "id": "CPvW2fC9oYk6",
        "colab_type": "code",
        "colab": {}
      },
      "source": [
        "#plot_2d(stats)"
      ],
      "execution_count": 0,
      "outputs": []
    },
    {
      "cell_type": "markdown",
      "metadata": {
        "id": "5hF1ko7loS67",
        "colab_type": "text"
      },
      "source": [
        "**Test with adaptation**"
      ]
    },
    {
      "cell_type": "code",
      "metadata": {
        "id": "rFCIg3hUoVSC",
        "colab_type": "code",
        "colab": {}
      },
      "source": [
        "#model_test(dataloader_art, net)"
      ],
      "execution_count": 0,
      "outputs": []
    },
    {
      "cell_type": "markdown",
      "metadata": {
        "id": "c2_MporSGp2V",
        "colab_type": "text"
      },
      "source": [
        "## Hyper-parameters search without adaptation"
      ]
    },
    {
      "cell_type": "code",
      "metadata": {
        "id": "T7ytgDLnNSAI",
        "colab_type": "code",
        "colab": {}
      },
      "source": [
        "best_values = dict()\n",
        "best_accuracy = 0\n",
        "\n",
        "max_count = 30\n",
        "cs_epochs = 10\n",
        "for count in range(max_count):\n",
        "  lr = 10**random.uniform(-5, -3) #Initially considered uniform(-5, -1), than uniform(-5, -3)\n",
        "  batch_size = random.choice([32, 64, 128, 256]) #Initially choice([32, 64, 128, 256])\n",
        "\n",
        "  stats = {'valid_losses': [], 'train_losses': [], 'valid_accuracies': [], 'train_accuracies': []}\n",
        "\n",
        "  print(\"Iteration {}/{}, lr = {}, batch size = {}\".format(count, max_count, lr, batch_size))\n",
        "\n",
        "  dataloader_cartoon = DataLoader(dataset_cartoon, batch_size=batch_size, shuffle=True, num_workers=4, drop_last=True)\n",
        "  dataloader_sketch = DataLoader(dataset_sketch, batch_size=batch_size, shuffle=True, num_workers=4, drop_last=True)\n",
        "  dataloader_photo = DataLoader(dataset_photo, batch_size=batch_size, shuffle=True, num_workers=4, drop_last=True)\n",
        "\n",
        "  net = alexnet(pretrained=True)\n",
        "  net.classifier[6] = nn.Linear(4096, NUM_CLASSES)\n",
        "  parameters_to_optimize = net.parameters()\n",
        "  optimizer = optim.Adam(parameters_to_optimize, lr=lr, weight_decay=WEIGHT_DECAY)             \n",
        "  scheduler = optim.lr_scheduler.StepLR(optimizer, step_size=STEP_SIZE, gamma=GAMMA)\n",
        "\n",
        "  stats = model_train(net, optimizer, criterion, scheduler, stats, epochs=cs_epochs, validation=True)\n",
        "\n",
        "  #Saving best 10 results considering validation loss\n",
        "  best_values = save_values(stats['valid_losses'], stats['valid_accuracies'], [lr, batch_size], best_values)\n",
        "\n",
        "  if stats['valid_accuracies'][-1] > best_accuracy: \n",
        "    best_net = copy.deepcopy(net)\n",
        "    best_accuracy = stats['valid_accuracies'][-1]\n",
        "\n",
        "  print(\"\")"
      ],
      "execution_count": 0,
      "outputs": []
    },
    {
      "cell_type": "code",
      "metadata": {
        "id": "564imzBz-id_",
        "colab_type": "code",
        "colab": {}
      },
      "source": [
        "for item in list(best_values.items()):\n",
        "  print(item)"
      ],
      "execution_count": 0,
      "outputs": []
    },
    {
      "cell_type": "code",
      "metadata": {
        "id": "ceGKJiPsPi69",
        "colab_type": "code",
        "colab": {}
      },
      "source": [
        "losses = []\n",
        "rates = []\n",
        "batch_sizes = []\n",
        "for item in list(best_values.items()):\n",
        "  if item[0] < 4.4:   #Filtring values to better understand from graph\n",
        "    rates.append(item[1][1][0])\n",
        "    batch_sizes.append(item[1][1][1])\n",
        "    losses.append(item[0])\n",
        "D_plot(rates, batch_sizes, losses, 'Learning rate', 'batch_size')"
      ],
      "execution_count": 0,
      "outputs": []
    },
    {
      "cell_type": "code",
      "metadata": {
        "id": "sqgXCy9Xl9lp",
        "colab_type": "code",
        "colab": {}
      },
      "source": [
        "stats = {'valid_losses': [], 'train_losses': [], 'valid_accuracies': [], 'train_accuracies': []}\n",
        "\n",
        "dataloader_cartoon = DataLoader(dataset_cartoon, batch_size=32, shuffle=True, num_workers=4, drop_last=True)\n",
        "dataloader_sketch = DataLoader(dataset_sketch, batch_size=32, shuffle=True, num_workers=4, drop_last=True)\n",
        "dataloader_photo = DataLoader(dataset_photo, batch_size=32, shuffle=True, num_workers=4, drop_last=True)\n",
        "dataloader_art = DataLoader(dataset_art, batch_size=32, shuffle=True, num_workers=4, drop_last=True)\n",
        "\n",
        "net = alexnet(pretrained=True)\n",
        "net.classifier[6] = nn.Linear(4096, NUM_CLASSES)\n",
        "parameters_to_optimize = net.parameters()\n",
        "optimizer = optim.Adam(parameters_to_optimize, lr=3e-4, weight_decay=WEIGHT_DECAY)             \n",
        "scheduler = optim.lr_scheduler.StepLR(optimizer, step_size=STEP_SIZE, gamma=GAMMA)"
      ],
      "execution_count": 0,
      "outputs": []
    },
    {
      "cell_type": "code",
      "metadata": {
        "id": "DEtQcTjMmL5N",
        "colab_type": "code",
        "colab": {}
      },
      "source": [
        "stats = model_train(net, optimizer, criterion, scheduler, stats, epochs=10, validation=True)"
      ],
      "execution_count": 0,
      "outputs": []
    },
    {
      "cell_type": "code",
      "metadata": {
        "id": "22Exy3qiHIfs",
        "colab_type": "code",
        "colab": {}
      },
      "source": [
        "model_test(dataloader_art, net)"
      ],
      "execution_count": 0,
      "outputs": []
    },
    {
      "cell_type": "markdown",
      "metadata": {
        "id": "exe2gY5nGyDj",
        "colab_type": "text"
      },
      "source": [
        "## Hyper-parameters search with adaptation"
      ]
    },
    {
      "cell_type": "code",
      "metadata": {
        "id": "6GA4-iPoHMVM",
        "colab_type": "code",
        "colab": {}
      },
      "source": [
        "best_values = dict()\n",
        "\n",
        "cs_epochs = 10\n",
        "for lr in [1e-5, 2e-5, 3e-5]: #Before [1e-5, 3e-5, 1e-4, 3e-4, 1e-3], than [1e-5, 2e-5, 3e-5]\n",
        "  for alpha in [0.7, 0.8, 0.9]: #Before [0.2, 0.3, 0.4, 0.5, 0.6, 0.7], [0.7, 0.8, 0.9]\n",
        "\n",
        "    stats1 = {'train_losses': [[], [], []], 'train_accuracies': [[], [], []],'valid_losses': [], 'valid_accuracies': []}\n",
        "    stats2 = {'train_losses': [[], [], []], 'train_accuracies': [[], [], []],'valid_losses': [], 'valid_accuracies': []}\n",
        "\n",
        "    print(\"lr = {}, alpha = {}\".format(lr, alpha)) \n",
        "\n",
        "    net1 = alexnet(pretrained=True)\n",
        "    net1.classifier[6] = nn.Linear(4096, NUM_CLASSES)\n",
        "    parameters_to_optimize = net1.parameters()\n",
        "    optimizer1 = optim.Adam(parameters_to_optimize, lr=lr, weight_decay=WEIGHT_DECAY)             \n",
        "    scheduler1 = optim.lr_scheduler.StepLR(optimizer1, step_size=STEP_SIZE, gamma=GAMMA)\n",
        "\n",
        "    net2 = alexnet(pretrained=True)\n",
        "    net2.classifier[6] = nn.Linear(4096, NUM_CLASSES)\n",
        "    parameters_to_optimize = net2.parameters()\n",
        "    optimizer2 = optim.Adam(parameters_to_optimize, lr=lr, weight_decay=WEIGHT_DECAY)             \n",
        "    scheduler2 = optim.lr_scheduler.StepLR(optimizer2, step_size=STEP_SIZE, gamma=GAMMA)\n",
        "\n",
        "    stats1 = model_train(net1, dataloader_cartoon, optimizer1, criterion, scheduler1, stats1, epochs=cs_epochs, validation=True, adaptation=True, alpha=alpha)\n",
        "    stats2 = model_train(net2, dataloader_sketch, optimizer2, criterion, scheduler2, stats2, epochs=cs_epochs, validation=True, adaptation=True, alpha=alpha)\n",
        "\n",
        "    valid_losses = [] \n",
        "    valid_accuracies = []\n",
        "\n",
        "    for i in range(len(stats1[\"valid_losses\"])):\n",
        "      valid_losses.append((stats1[\"valid_losses\"][i] + stats2[\"valid_losses\"][i])/2)\n",
        "      valid_accuracies.append((stats1[\"valid_accuracies\"][i] + stats2[\"valid_accuracies\"][i])/2)\n",
        "\n",
        "    #Saving best 10 results considering validation loss\n",
        "    best_values = save_values(valid_losses, valid_accuracies, [lr, alpha], best_values)\n",
        "\n",
        "    print(\"\")"
      ],
      "execution_count": 0,
      "outputs": []
    },
    {
      "cell_type": "code",
      "metadata": {
        "colab_type": "code",
        "id": "rmzfRhcACl91",
        "colab": {}
      },
      "source": [
        "for item in list(best_values.items()):\n",
        "  print(item)"
      ],
      "execution_count": 0,
      "outputs": []
    },
    {
      "cell_type": "code",
      "metadata": {
        "id": "yXAwirxxQZOk",
        "colab_type": "code",
        "colab": {}
      },
      "source": [
        "losses = []\n",
        "rates = []\n",
        "alphas = []\n",
        "for item in list(best_values.items()):\n",
        "  if item[0] < 50.4:   #Filtring values to better understand from graph\n",
        "    rates.append(item[1][1][0])\n",
        "    alphas.append(item[1][1][1])\n",
        "    losses.append(item[0])\n",
        "D_plot(rates, alphas, losses, 'Learning rate', 'alpha')"
      ],
      "execution_count": 0,
      "outputs": []
    },
    {
      "cell_type": "code",
      "metadata": {
        "colab_type": "code",
        "id": "7ewG-xwkU7Kr",
        "colab": {}
      },
      "source": [
        "stats = {'valid_losses': [], 'train_losses': [[], [], []], 'valid_accuracies': [], 'train_accuracies': [[], [], []]}\n",
        "\n",
        "net = alexnet(pretrained=True)\n",
        "net.classifier[6] = nn.Linear(4096, NUM_CLASSES)\n",
        "parameters_to_optimize = net.parameters()\n",
        "optimizer = optim.Adam(parameters_to_optimize, lr=1e-5, weight_decay=WEIGHT_DECAY)             \n",
        "scheduler = optim.lr_scheduler.StepLR(optimizer, step_size=STEP_SIZE, gamma=GAMMA)\n",
        "\n",
        "stats2 = {'valid_losses': [], 'train_losses': [[], [], []], 'valid_accuracies': [], 'train_accuracies': [[], [], []]}\n",
        "\n",
        "net2 = alexnet(pretrained=True)\n",
        "net2.classifier[6] = nn.Linear(4096, NUM_CLASSES)\n",
        "parameters_to_optimize2 = net2.parameters()\n",
        "optimizer2 = optim.Adam(parameters_to_optimize2, lr=3e-5, weight_decay=WEIGHT_DECAY)             \n",
        "scheduler2 = optim.lr_scheduler.StepLR(optimizer2, step_size=STEP_SIZE, gamma=GAMMA)"
      ],
      "execution_count": 0,
      "outputs": []
    },
    {
      "cell_type": "code",
      "metadata": {
        "id": "k9nGjl3xVE4G",
        "colab_type": "code",
        "colab": {}
      },
      "source": [
        "stats = model_train(net, dataloader_art, optimizer, criterion, scheduler, stats, epochs=40, adaptation=True, alpha=0.9)"
      ],
      "execution_count": 0,
      "outputs": []
    },
    {
      "cell_type": "code",
      "metadata": {
        "id": "j6dFUoBPPb_J",
        "colab_type": "code",
        "colab": {}
      },
      "source": [
        "stats2 = model_train(net2, dataloader_art, optimizer2, criterion, scheduler2, stats2, epochs=40, adaptation=True, alpha=0.9)"
      ],
      "execution_count": 0,
      "outputs": []
    },
    {
      "cell_type": "code",
      "metadata": {
        "id": "2iFKAK3tS1YO",
        "colab_type": "code",
        "colab": {}
      },
      "source": [
        "plot_2d(stats)"
      ],
      "execution_count": 0,
      "outputs": []
    },
    {
      "cell_type": "code",
      "metadata": {
        "id": "hMAUrMCHPsBd",
        "colab_type": "code",
        "colab": {}
      },
      "source": [
        "plot_2d(stats2)"
      ],
      "execution_count": 0,
      "outputs": []
    },
    {
      "cell_type": "code",
      "metadata": {
        "id": "iB01YqP8HQ6M",
        "colab_type": "code",
        "colab": {}
      },
      "source": [
        "model_test(dataloader_art, net2, net2=[net2])"
      ],
      "execution_count": 0,
      "outputs": []
    }
  ]
}