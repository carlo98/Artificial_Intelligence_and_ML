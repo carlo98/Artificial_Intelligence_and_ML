{
  "nbformat": 4,
  "nbformat_minor": 0,
  "metadata": {
    "colab": {
      "name": "Assignment2.ipynb",
      "provenance": [],
      "collapsed_sections": []
    },
    "kernelspec": {
      "name": "python3",
      "display_name": "Python 3"
    },
    "accelerator": "GPU"
  },
  "cells": [
    {
      "cell_type": "markdown",
      "metadata": {
        "id": "akR2ZYrV8GH6",
        "colab_type": "text"
      },
      "source": [
        "## Mount drive"
      ]
    },
    {
      "cell_type": "code",
      "metadata": {
        "id": "Lo0N_KFj76AM",
        "colab_type": "code",
        "colab": {}
      },
      "source": [
        "#from google.colab import drive\n",
        "#drive.mount('/content/drive')"
      ],
      "execution_count": 0,
      "outputs": []
    },
    {
      "cell_type": "markdown",
      "metadata": {
        "id": "c9QcGnGPdX2C",
        "colab_type": "text"
      },
      "source": [
        "## Install requirements"
      ]
    },
    {
      "cell_type": "code",
      "metadata": {
        "id": "k9O3aM3Tb28q",
        "colab_type": "code",
        "colab": {}
      },
      "source": [
        "!pip3 install 'torch==1.3.1'\n",
        "!pip3 install 'torchvision==0.4.2'\n",
        "!pip3 install 'Pillow-SIMD'\n",
        "!pip3 install 'tqdm'\n",
        "#!pip3 install pillow==4.1.1 #if error: module 'PIL._webp' has no attribute 'HAVE_WEBPANIM'\n",
        "#%reload_ext autoreload #if error: module 'PIL._webp' has no attribute 'HAVE_WEBPANIM'\n",
        "#%autoreload #if error: module 'PIL._webp' has no attribute 'HAVE_WEBPANIM'"
      ],
      "execution_count": 0,
      "outputs": []
    },
    {
      "cell_type": "markdown",
      "metadata": {
        "id": "fo942LMOdlh4",
        "colab_type": "text"
      },
      "source": [
        "## Import libraries"
      ]
    },
    {
      "cell_type": "code",
      "metadata": {
        "id": "DokFOdD1dJEl",
        "colab_type": "code",
        "colab": {}
      },
      "source": [
        "import os\n",
        "import logging\n",
        "import sys\n",
        "import copy\n",
        "\n",
        "import torch\n",
        "import torch.nn as nn\n",
        "import torch.optim as optim\n",
        "from torch.utils.data import Subset, DataLoader\n",
        "from torch.backends import cudnn\n",
        "\n",
        "from torchvision.datasets import VisionDataset\n",
        "from torch.utils.data.sampler import SubsetRandomSampler\n",
        "\n",
        "import torchvision\n",
        "from torchvision import transforms\n",
        "from torchvision.models import alexnet, vgg11, vgg19, vgg19_bn\n",
        "\n",
        "from PIL import Image\n",
        "from tqdm import tqdm\n",
        "import numpy as np\n",
        "\n",
        "import random\n",
        "import collections\n",
        "from mpl_toolkits import mplot3d\n",
        "import matplotlib.pyplot as plt"
      ],
      "execution_count": 0,
      "outputs": []
    },
    {
      "cell_type": "markdown",
      "metadata": {
        "id": "PokzkSyWKcHT",
        "colab_type": "text"
      },
      "source": [
        "## Define dataset class\n"
      ]
    },
    {
      "cell_type": "code",
      "metadata": {
        "id": "41ixwnasZkYK",
        "colab_type": "code",
        "colab": {}
      },
      "source": [
        "def pil_loader(path):\n",
        "    # open path as file to avoid ResourceWarning (https://github.com/python-pillow/Pillow/issues/835)\n",
        "    with open(path, 'rb') as f:\n",
        "        img = Image.open(f)\n",
        "        return img.convert('RGB')\n",
        "\n",
        "def make_dataset(dir, class_to_idx, split, extensions=None, is_valid_file=None):\n",
        "    images = []\n",
        "\n",
        "    with open(os.path.join(dir, '..', split+'.txt')) as f:\n",
        "        images_file = f.read().splitlines()\n",
        "        for image_path in images_file:\n",
        "            path = os.path.join(dir, image_path)\n",
        "            target,_ = image_path.split(\"/\")\n",
        "            if target in class_to_idx.keys():\n",
        "                item = (path, class_to_idx[target])\n",
        "                images.append(item)\n",
        "    return images\n",
        "\n",
        "class Caltech(VisionDataset):\n",
        "    def __init__(self, root, split='train', transform=None, target_transform=None, valid_size = 0.5):\n",
        "        super(Caltech, self).__init__(root, transform=transform, target_transform=target_transform)\n",
        "\n",
        "        self.split = split # This defines the split you are going to use\n",
        "                           # (split files are called 'train.txt' and 'test.txt')\n",
        "\n",
        "        '''\n",
        "        - Here you should implement the logic for reading the splits files and accessing elements\n",
        "        - If the RAM size allows it, it is faster to store all data in memory\n",
        "        - PyTorch Dataset classes use indexes to read elements\n",
        "        - You should provide a way for the __getitem__ method to access the image-label pair\n",
        "          through the index\n",
        "        - Labels should start from 0, so for Caltech you will have lables 0...100 (excluding the background class) \n",
        "        '''\n",
        "\n",
        "        classes, class_to_idx = self._find_classes(self.root)\n",
        "        samples = make_dataset(self.root, class_to_idx, self.split)\n",
        "        if len(samples) == 0:\n",
        "            raise (RuntimeError(\"Found 0 files in subfolders of: \" + self.root))\n",
        "\n",
        "        self.classes = classes\n",
        "        self.class_to_idx = class_to_idx\n",
        "        self.samples = samples\n",
        "        self.targets = [s[1] for s in samples]\n",
        "\n",
        "    def _find_classes(self, dir):\n",
        "        \"\"\"\n",
        "        Finds the class folders in a dataset.\n",
        "\n",
        "        Args:\n",
        "            dir (string): Root directory path.\n",
        "\n",
        "        Returns:\n",
        "            tuple: (classes, class_to_idx) where classes are relative to (dir), and class_to_idx is a dictionary.\n",
        "\n",
        "        Ensures:\n",
        "            No class is a subdirectory of another.\n",
        "        \"\"\"\n",
        "        if sys.version_info >= (3, 5):\n",
        "            # Faster and available in Python 3.5 and above\n",
        "            classes = [d.name for d in os.scandir(dir) if (d.is_dir() and d.name != 'BACKGROUND_Google')]\n",
        "        else:\n",
        "            classes = [d for d in os.listdir(dir) if (os.path.isdir(os.path.join(dir, d)) and d != 'BACKGROUND_Google')]\n",
        "        classes.sort()\n",
        "        class_to_idx = {classes[i]: i for i in range(len(classes))}\n",
        "        return classes, class_to_idx\n",
        "\n",
        "    def get_index_by_class(self, image_class):\n",
        "        '''\n",
        "        get_items_by_class should return every item's index of the given class\n",
        "        Args:\n",
        "            image_class (String): class_name\n",
        "        \n",
        "        Returns:\n",
        "            list: [index, ...] where index is the index of one of the element of the given class\n",
        "        '''\n",
        "        indexes = []\n",
        "        for i, item in enumerate(self.samples):\n",
        "            if item[1] == self.class_to_idx[image_class]:\n",
        "                indexes.append(i)\n",
        "        return indexes\n",
        "\n",
        "    def __getitem__(self, index):\n",
        "        '''\n",
        "        __getitem__ should access an element through its index\n",
        "        Args:\n",
        "            index (int): Index\n",
        "\n",
        "        Returns:\n",
        "            tuple: (sample, target) where target is class_index of the target class.\n",
        "        '''\n",
        "\n",
        "        image_path, target = self.samples[index]\n",
        "        image, label = (pil_loader(image_path), target) # Provide a way to access image and label via index\n",
        "                                                        # Image should be a PIL Image\n",
        "                                                        # label can be int\n",
        "\n",
        "        # Applies preprocessing when accessing the image\n",
        "        if self.transform is not None:\n",
        "            image = self.transform(image)\n",
        "\n",
        "        return image, label\n",
        "\n",
        "    def __len__(self):\n",
        "        '''\n",
        "        The __len__ method returns the length of the dataset\n",
        "        It is mandatory, as this is used by several other components\n",
        "        '''\n",
        "        length = len(self.samples) # Provide a way to get the length (number of elements) of the dataset\n",
        "        return length\n"
      ],
      "execution_count": 0,
      "outputs": []
    },
    {
      "cell_type": "markdown",
      "metadata": {
        "id": "2qYIHPzYLY7i",
        "colab_type": "text"
      },
      "source": [
        "## Download Dataset"
      ]
    },
    {
      "cell_type": "code",
      "metadata": {
        "id": "m5rDFBu-aBLJ",
        "colab_type": "code",
        "colab": {}
      },
      "source": [
        "# Clone github repository with data\n",
        "if not os.path.isdir('./Homework2-Caltech101'):\n",
        "  !git clone https://github.com/MachineLearning2020/Homework2-Caltech101.git\n",
        "\n",
        "DATA_DIR = 'Homework2-Caltech101/101_ObjectCategories'"
      ],
      "execution_count": 0,
      "outputs": []
    },
    {
      "cell_type": "markdown",
      "metadata": {
        "id": "OIDLJuIXK_vh",
        "colab_type": "text"
      },
      "source": [
        "## Set Arguments"
      ]
    },
    {
      "cell_type": "code",
      "metadata": {
        "id": "Mc_VWR2408oB",
        "colab_type": "code",
        "colab": {}
      },
      "source": [
        "DEVICE = 'cuda' # 'cuda' or 'cpu'\n",
        "\n",
        "NUM_CLASSES = 101 # Removed extra Background class\n",
        "\n",
        "BATCH_SIZE = 256     # Higher batch sizes allows for larger learning rates. An empirical heuristic suggests that, when changing\n",
        "                     # the batch size, learning rate should change by the same factor to have comparable results\n",
        "\n",
        "LR = 1e-3            # The initial Learning Rate\n",
        "MOMENTUM = 0.9       # Hyperparameter for SGD, keep this at 0.9 when using SGD\n",
        "WEIGHT_DECAY = 5e-5  # Regularization, you can keep this at the default\n",
        "\n",
        "NUM_EPOCHS = 60      # Total number of training epochs (iterations over dataset)\n",
        "STEP_SIZE = 15      # How many epochs before decreasing learning rate (if using a step-down policy)\n",
        "GAMMA = 0.1          # Multiplicative factor for learning rate step-down\n",
        "\n",
        "LOG_FREQUENCY = 10"
      ],
      "execution_count": 0,
      "outputs": []
    },
    {
      "cell_type": "markdown",
      "metadata": {
        "id": "KEyL3H_R4qCf",
        "colab_type": "text"
      },
      "source": [
        "\n",
        "## Prepare Training"
      ]
    },
    {
      "cell_type": "code",
      "metadata": {
        "id": "_3prnVstVezR",
        "colab_type": "code",
        "colab": {}
      },
      "source": [
        "def train_step(net, criterion, optimizer, current_step, train_losses, train_accuracies, train_dataloader):\n",
        "  # Iterate over the dataset\n",
        "  step = 1\n",
        "  train_losses.append(0)\n",
        "  train_accuracies.append(0)\n",
        "  \n",
        "  for images, labels in train_dataloader:\n",
        "    # Bring data over the device of choice\n",
        "    images = images.to(DEVICE)\n",
        "    labels = labels.to(DEVICE)\n",
        "\n",
        "    # PyTorch, by default, accumulates gradients after each backward pass\n",
        "    # We need to manually set the gradients to zero before starting a new iteration\n",
        "    optimizer.zero_grad() # Zero-ing the gradients\n",
        "\n",
        "    # Forward pass to the network\n",
        "    outputs = net(images)\n",
        "\n",
        "    # Compute loss based on output and ground truth\n",
        "    loss = criterion(outputs, labels)\n",
        "\n",
        "    # Get predictions\n",
        "    _, preds = torch.max(outputs.data, 1)\n",
        "\n",
        "    # Update train losses\n",
        "    train_losses[-1] += loss.item()\n",
        "    #Update train accuracies\n",
        "    train_accuracies[-1] += torch.sum(preds == labels.data).data.item()/len(labels.data)\n",
        "\n",
        "    # Log loss and accuracy\n",
        "    if current_step % LOG_FREQUENCY == 0:\n",
        "      print('\\tStep {}, Loss {}, Accuracy = {}%'.format(current_step, loss.item(), train_accuracies[-1]*100/step))\n",
        "\n",
        "    # Compute gradients for each layer and update weights\n",
        "    loss.backward()  # backward pass: computes gradients\n",
        "    optimizer.step() # update weights based on accumulated gradients\n",
        "\n",
        "    current_step += 1\n",
        "    step += 1\n",
        "\n",
        "  train_losses[-1] /= step\n",
        "  train_accuracies[-1] /= step\n",
        "\n",
        "  return current_step, train_losses, train_accuracies"
      ],
      "execution_count": 0,
      "outputs": []
    },
    {
      "cell_type": "code",
      "metadata": {
        "id": "qBaHA9ZYWjt7",
        "colab_type": "code",
        "colab": {}
      },
      "source": [
        "def valid_step(net, criterion, valid_losses, valid_accuracies, valid_dataloader, current_step):\n",
        "  step = 1\n",
        "  valid_losses.append(0)\n",
        "  valid_accuracies.append(0)\n",
        "  \n",
        "  for images, labels in valid_dataloader:\n",
        "\n",
        "    images = images.to(DEVICE)\n",
        "    labels = labels.to(DEVICE)\n",
        "\n",
        "    # Forward Pass\n",
        "    outputs_valid = net(images)\n",
        "\n",
        "    # Get predictions\n",
        "    _, preds = torch.max(outputs_valid.data, 1)\n",
        "\n",
        "    # Update valid losses\n",
        "    valid_losses[-1] += criterion(outputs_valid, labels).item()\n",
        "    #Update valid accuracies\n",
        "    valid_accuracies[-1] += torch.sum(preds == labels.data).data.item()/len(labels.data)\n",
        "\n",
        "    current_step += 1\n",
        "    step += 1\n",
        "\n",
        "  valid_losses[-1] /= step\n",
        "  valid_accuracies[-1] /= step\n",
        "\n",
        "  print('\\tValid_loss = {}, Valid_accuracy = {}%'.format(valid_losses[-1], valid_accuracies[-1]*100))\n",
        "\n",
        "  return valid_losses, valid_accuracies, current_step"
      ],
      "execution_count": 0,
      "outputs": []
    },
    {
      "cell_type": "code",
      "metadata": {
        "id": "ZcoQ5fD49yT_",
        "colab_type": "code",
        "colab": {}
      },
      "source": [
        "def model_train(net, optimizer, scheduler, stats, epochs=NUM_EPOCHS):\n",
        "  # By default, everything is loaded to cpu\n",
        "  net = net.to(DEVICE) # this will bring the network to GPU if DEVICE is cuda\n",
        "\n",
        "  cudnn.benchmark # Calling this optimizes runtime\n",
        "\n",
        "  current_step = 0\n",
        "  current_step_valid = 0\n",
        "  # Start iterating over the epochs\n",
        "  for epoch in range(epochs):\n",
        "\n",
        "    print('Starting epoch {}/{}, LR = {}'.format(epoch+1, epochs, scheduler.get_lr()))\n",
        "\n",
        "    net.train() # Sets module in training mode\n",
        "    current_step, stats['train_losses'], stats['train_accuracies'] = train_step(net, criterion, optimizer, current_step, stats['train_losses'], stats['train_accuracies'], train_dataloader)\n",
        "\n",
        "    # Step the scheduler\n",
        "    scheduler.step()\n",
        "\n",
        "    net.train(False) # Sets module in evaluation mode\n",
        "    #Testing on validation set\n",
        "    stats['valid_losses'], stats['valid_accuracies'], current_step_valid = valid_step(net, criterion, stats['valid_losses'], stats['valid_accuracies'], valid_dataloader, current_step_valid)\n",
        "\n",
        "  return stats"
      ],
      "execution_count": 0,
      "outputs": []
    },
    {
      "cell_type": "code",
      "metadata": {
        "id": "V677lR8uIGPt",
        "colab_type": "code",
        "colab": {}
      },
      "source": [
        "def model_test(test_dataloader, net1, net2=None):\n",
        "  net1 = net1.to(DEVICE) # this will bring the network to GPU if DEVICE is cuda\n",
        "  net1.train(False) # Set Network to evaluation mode\n",
        "\n",
        "  step = 1\n",
        "\n",
        "  #If using two models\n",
        "  if net2 is not None:\n",
        "    for net in net2:\n",
        "      net = net.to(DEVICE)\n",
        "      net.train(False)\n",
        "\n",
        "  accuracy = 0\n",
        "  for images, labels in tqdm(test_dataloader):\n",
        "    images = images.to(DEVICE)\n",
        "    labels = labels.to(DEVICE)\n",
        "\n",
        "    # Forward Pass 1\n",
        "    outputs = net1(images).data\n",
        "\n",
        "    #Forward pass 2 and get predictions\n",
        "    if net2 is not None:\n",
        "      for net in net2:\n",
        "        outputs += net(images).data\n",
        "      _, preds = torch.max(outputs/(len(net2)+1), 1)\n",
        "    else:\n",
        "      _, preds = torch.max(outputs, 1)\n",
        "\n",
        "    # Update Corrects\n",
        "    accuracy += torch.sum(preds == labels.data).data.item()/ float(len(labels.data))\n",
        "\n",
        "    step += 1\n",
        "\n",
        "  accuracy /= step\n",
        "\n",
        "  print('Test Accuracy: {}%'.format(accuracy*100))"
      ],
      "execution_count": 0,
      "outputs": []
    },
    {
      "cell_type": "markdown",
      "metadata": {
        "id": "58mqDs5Fyr2r",
        "colab_type": "text"
      },
      "source": [
        "Creating methods to save and plot values"
      ]
    },
    {
      "cell_type": "code",
      "metadata": {
        "id": "kecpcdGv02ZS",
        "colab_type": "code",
        "colab": {}
      },
      "source": [
        "#Use to save values of hyper-parameters\n",
        "def save_values(valid_losses, valid_accuracies, first_param, second_param, best_values):\n",
        "  i = np.argmin(valid_losses)\n",
        "  if len(best_values) < 10:\n",
        "    best_values[valid_losses[i]] = (valid_accuracies[i], first_param, second_param)\n",
        "  elif list(best_values.keys())[0] > valid_losses[i]:\n",
        "    best_values.popitem()\n",
        "    best_values[valid_losses[i]] = (valid_accuracies[i], first_param, second_param)\n",
        "  return collections.OrderedDict(sorted(best_values.items()))"
      ],
      "execution_count": 0,
      "outputs": []
    },
    {
      "cell_type": "code",
      "metadata": {
        "id": "uaecEIXjlkVU",
        "colab_type": "code",
        "colab": {}
      },
      "source": [
        "def plot_2d(stats):\n",
        "  fig, (ax1, ax2) = plt.subplots(2)\n",
        "\n",
        "  #Plotting losses\n",
        "  ax1.plot(stats['train_losses'])  \n",
        "  ax1.plot(stats['valid_losses'])  \n",
        "  #ax1.title(\"Model Loss\")  \n",
        "  ax1.set_ylabel(\"loss\")  \n",
        "  ax1.set_xlabel(\"epochs\")  \n",
        "  ax1.legend(['train', 'valid'], loc='upper left')\n",
        "\n",
        "  #Plotting accuracies\n",
        "  ax2.plot(stats['train_accuracies'])  \n",
        "  ax2.plot(stats['valid_accuracies'])  \n",
        "  #ax2.title(\"Model Accuracy\")  \n",
        "  ax2.set_ylabel(\"accuracy\")  \n",
        "  ax2.set_xlabel(\"epochs\")  \n",
        "  ax2.legend(['train', 'valid'], loc='upper left')"
      ],
      "execution_count": 0,
      "outputs": []
    },
    {
      "cell_type": "code",
      "metadata": {
        "id": "w-hSNydR004o",
        "colab_type": "code",
        "colab": {}
      },
      "source": [
        "#Use to plot 3D plot a hyper-parameters / loss\n",
        "def D_plot(xdata, ydata, zdata, xlabel, ylabel, zlabel='loss'):\n",
        "  fig = plt.figure()\n",
        "  ax = plt.axes(projection=\"3d\")\n",
        "\n",
        "  # Data for three-dimensional scattered points\n",
        "  ax.scatter3D(xdata, ydata, zdata, cmap=\"Blues\")\n",
        "\n",
        "  ax.set_xlabel(xlabel)  \n",
        "  ax.set_ylabel(ylabel)\n",
        "  ax.set_zlabel(zlabel)"
      ],
      "execution_count": 0,
      "outputs": []
    },
    {
      "cell_type": "markdown",
      "metadata": {
        "id": "pHNnQZYFGyoE",
        "colab_type": "text"
      },
      "source": [
        "### Defining loss"
      ]
    },
    {
      "cell_type": "code",
      "metadata": {
        "id": "XcN_L9xC039m",
        "colab_type": "code",
        "colab": {}
      },
      "source": [
        "# Define loss function\n",
        "criterion = nn.CrossEntropyLoss() # for classification, we use Cross Entropy"
      ],
      "execution_count": 0,
      "outputs": []
    },
    {
      "cell_type": "markdown",
      "metadata": {
        "id": "9oGBpILuxIqQ",
        "colab_type": "text"
      },
      "source": [
        "## Save and load models"
      ]
    },
    {
      "cell_type": "code",
      "metadata": {
        "id": "X-JmbzvMxESd",
        "colab_type": "code",
        "colab": {}
      },
      "source": [
        "#torch.save(net_pretrained_vgg_19.state_dict(), \"./vgg_19\")"
      ],
      "execution_count": 0,
      "outputs": []
    },
    {
      "cell_type": "code",
      "metadata": {
        "id": "2G6Y7uWd8QWF",
        "colab_type": "code",
        "colab": {}
      },
      "source": [
        "#Load model\n",
        "#net_pretrained_vgg_19_bn = vgg19_bn()\n",
        "#net_pretrained_vgg_19_bn.classifier[6] = nn.Linear(4096, NUM_CLASSES)\n",
        "#net_pretrained_vgg_19_bn.load_state_dict(torch.load(\"./vgg_19_bn\"))"
      ],
      "execution_count": 0,
      "outputs": []
    },
    {
      "cell_type": "markdown",
      "metadata": {
        "id": "9gwii0TBHvzh",
        "colab_type": "text"
      },
      "source": [
        "## Define Data Preprocessing"
      ]
    },
    {
      "cell_type": "code",
      "metadata": {
        "id": "QUDdw4j2H0Mc",
        "colab_type": "code",
        "colab": {}
      },
      "source": [
        "# Define transforms for training phase\n",
        "train_transform = transforms.Compose([transforms.Resize(256),      # Resizes short size of the PIL image to 256\n",
        "                                      transforms.CenterCrop(224),  # Crops a central square patch of the image\n",
        "                                                                   # 224 because torchvision's AlexNet needs a 224x224 input!\n",
        "                                                                   # Remember this when applying different transformations, otherwise you get an error\n",
        "                                      transforms.ToTensor(), # Turn PIL Image to torch.Tensor\n",
        "                                      transforms.Normalize((0.5, 0.5, 0.5), (0.5, 0.5, 0.5)) # Normalizes tensor with mean and standard deviation\n",
        "])\n",
        "# Define transforms for the evaluation phase\n",
        "eval_transform = transforms.Compose([transforms.Resize(256),\n",
        "                                      transforms.CenterCrop(224),\n",
        "                                      transforms.ToTensor(),\n",
        "                                      transforms.Normalize((0.5, 0.5, 0.5), (0.5, 0.5, 0.5))                                    \n",
        "])"
      ],
      "execution_count": 0,
      "outputs": []
    },
    {
      "cell_type": "markdown",
      "metadata": {
        "colab_type": "text",
        "id": "ApY9t9PFTQhZ"
      },
      "source": [
        "## Prepare Dataset"
      ]
    },
    {
      "cell_type": "code",
      "metadata": {
        "id": "QfVq_uDHLbsR",
        "colab_type": "code",
        "colab": {}
      },
      "source": [
        "# Prepare Pytorch train/test Datasets\n",
        "#train_dataset = torchvision.datasets.ImageFolder(DATA_DIR, transform=train_transform)\n",
        "#test_dataset = torchvision.datasets.ImageFolder(DATA_DIR, transform=eval_transform)\n",
        "train_dataset = Caltech(DATA_DIR, transform=train_transform, split='train')\n",
        "test_dataset = Caltech(DATA_DIR, transform=eval_transform, split='test')\n",
        "\n",
        "#train_indexes = [idx for idx in range(len(train_dataset)) if idx % 5]\n",
        "#test_indexes = [idx for idx in range(len(test_dataset)) if not idx % 5]\n",
        "#train_dataset = Subset(train_dataset, train_indexes)\n",
        "#test_dataset = Subset(test_dataset, test_indexes)\n",
        "\n",
        "# Creating data indices for training and validation splits:\n",
        "train_indices = []\n",
        "val_indices = []\n",
        "\n",
        "for image_class in train_dataset.classes:\n",
        "  class_indices = train_dataset.get_index_by_class(image_class)\n",
        "  np.random.shuffle(class_indices)\n",
        "  split = int(np.floor(0.5 * len(class_indices)))\n",
        "  train_indices = train_indices + class_indices[split:]\n",
        "  val_indices = val_indices + class_indices[:split]\n",
        "\n",
        "# Creating PT data samplers and loaders:\n",
        "train_sampler = SubsetRandomSampler(train_indices)\n",
        "valid_sampler = SubsetRandomSampler(val_indices)\n",
        "\n",
        "# Check dataset sizes\n",
        "print('Train Dataset: {}'.format(len(train_indices)))\n",
        "print('Validation Dataset: {}'.format(len(val_indices)))\n",
        "print('Test Dataset: {}'.format(len(test_dataset)))"
      ],
      "execution_count": 0,
      "outputs": []
    },
    {
      "cell_type": "markdown",
      "metadata": {
        "id": "AxYUli9d9uYQ",
        "colab_type": "text"
      },
      "source": [
        "## Train"
      ]
    },
    {
      "cell_type": "markdown",
      "metadata": {
        "id": "-P8Z8G4J3gnc",
        "colab_type": "text"
      },
      "source": [
        "### Search for best learning rate - batch_size, Adam"
      ]
    },
    {
      "cell_type": "code",
      "metadata": {
        "id": "dnM-TwIXoOmI",
        "colab_type": "code",
        "colab": {}
      },
      "source": [
        "#best_values = dict()\n",
        "#best_accuracy = 0\n",
        "\n",
        "#max_count = 30\n",
        "#cs_epochs = 15\n",
        "#for count in range(max_count):\n",
        "  #lr = 10**random.uniform(-5, -3) #Initially considered uniform(-5, -2), than uniform(-5, -3)\n",
        "  #batch_size = random.choice([64, 128]) #Initially choice([64, 128, 256, 512]), than choice([64, 128])\n",
        "\n",
        "  #stats = {'valid_losses': [], 'train_losses': [], 'valid_accuracies': [], 'train_accuracies': []}\n",
        "\n",
        "  #print(\"Iteration {}/{}, lr = {}, gamma = {}\".format(count, max_count, lr, batch_size))\n",
        "\n",
        "  #train_dataloader = DataLoader(train_dataset, batch_size=batch_size, num_workers=4, drop_last=True, sampler=train_sampler) \n",
        "  #valid_dataloader = DataLoader(train_dataset, batch_size=batch_size, num_workers=4, drop_last=True, sampler=valid_sampler) \n",
        "\n",
        "  #net = alexnet()\n",
        "  #net.classifier[6] = nn.Linear(4096, NUM_CLASSES)\n",
        "  #parameters_to_optimize = net.parameters()\n",
        "  #optimizer = optim.Adam(parameters_to_optimize, lr=lr, weight_decay=WEIGHT_DECAY)             \n",
        "  #scheduler = optim.lr_scheduler.StepLR(optimizer, step_size=STEP_SIZE, gamma=GAMMA)\n",
        "\n",
        "  #stats = model_train(net, optimizer, scheduler, stats, epochs=cs_epochs)\n",
        "\n",
        "  #Saving best 10 results considering validation loss\n",
        "  #best_values = save_values(stats['valid_losses'], stats['valid_accuracies'], net, [lr, batch_size], best_values)\n",
        "\n",
        "  #if stats['valid_accuracies'][-1] > best_accuracy:\n",
        "    #best_net = copy.deepcopy(net)\n",
        "    #best_accuracy = stats['valid_accuracies'][-1]\n",
        "\n",
        "  #print(\"\")"
      ],
      "execution_count": 0,
      "outputs": []
    },
    {
      "cell_type": "code",
      "metadata": {
        "id": "jgTZDl9-4GjR",
        "colab_type": "code",
        "colab": {}
      },
      "source": [
        "#print(best_values)"
      ],
      "execution_count": 0,
      "outputs": []
    },
    {
      "cell_type": "code",
      "metadata": {
        "id": "Vy-gAuKCQBCO",
        "colab_type": "code",
        "colab": {}
      },
      "source": [
        "#losses = []\n",
        "#rates = []\n",
        "#batch_sizes = []\n",
        "#for item in list(best_values.items()):\n",
        "  #if item[0] < 4.4:   #Filtring values to better understand from graph\n",
        "    #rates.append(item[1][1])\n",
        "    #batch_sizes.append(item[1][2])\n",
        "    #losses.append(item[0])\n",
        "#D_plot(rates, batch_sizes, losses, 'Learning rate', 'batch_size')"
      ],
      "execution_count": 0,
      "outputs": []
    },
    {
      "cell_type": "markdown",
      "metadata": {
        "id": "_Fz_ba4tOe9z",
        "colab_type": "text"
      },
      "source": [
        "Best learning rate = 1e-4 and best batch size = 64"
      ]
    },
    {
      "cell_type": "markdown",
      "metadata": {
        "id": "J4VRWZ6jLQSW",
        "colab_type": "text"
      },
      "source": [
        "### Search for best betas, Adam\n",
        "Using learning rate previously found"
      ]
    },
    {
      "cell_type": "code",
      "metadata": {
        "id": "5Xq173XULVSB",
        "colab_type": "code",
        "colab": {}
      },
      "source": [
        "#best_values = dict()\n",
        "#best_accuracy = 0\n",
        "\n",
        "#lr = 1e-4 #Found previously\n",
        "#batch_size = 64 #Found previously\n",
        "\n",
        "#train_dataloader = DataLoader(train_dataset, batch_size=batch_size, num_workers=4, drop_last=True, sampler=train_sampler) \n",
        "#valid_dataloader = DataLoader(train_dataset, batch_size=batch_size, num_workers=4, drop_last=True, sampler=valid_sampler) \n",
        "\n",
        "#max_count = 30\n",
        "#cs_epochs = 10\n",
        "#for count in range(max_count):\n",
        "  #beta1 = random.uniform(0.82, 0.90) #Initially uniform(0.8, 0.999), than uniform(0.82, 0.90)\n",
        "  #beta2 = random.uniform(0.90, 0.99) #Initially uniform(0.8,0.999), than uniform(0.90, 0.99)\n",
        "\n",
        "  #stats = {'valid_losses': [], 'train_losses': [], 'valid_accuracies': [], 'train_accuracies': []}\n",
        "\n",
        "  #print(\"Iteration {}/{}, betas = ({}, {})\".format(count, max_count, beta1, beta2))\n",
        "\n",
        "  #net = alexnet()\n",
        "  #net.classifier[6] = nn.Linear(4096, NUM_CLASSES)\n",
        "  #parameters_to_optimize = net.parameters()\n",
        "  #optimizer = optim.Adam(parameters_to_optimize, lr=lr, betas=(beta1, beta2), weight_decay=WEIGHT_DECAY)\n",
        "  #scheduler = optim.lr_scheduler.StepLR(optimizer, step_size=STEP_SIZE, gamma=GAMMA)\n",
        "\n",
        "  #stats = model_train(net, optimizer, scheduler, stats, epochs=cs_epochs)\n",
        "\n",
        "  #Saving best 10 results considering validation loss\n",
        "  #best_values = save_values(stats['valid_losses'], stats['valid_accuracies'], beta1, beta2, best_values)\n",
        "\n",
        "  #if stats['valid_accuracies'][-1] > best_accuracy:\n",
        "    #best_net = copy.deepcopy(net)\n",
        "    #best_accuracy = stats['valid_accuracies'][-1]\n",
        "\n",
        "  #print(\"\")"
      ],
      "execution_count": 0,
      "outputs": []
    },
    {
      "cell_type": "code",
      "metadata": {
        "id": "X4TKAlvBofa_",
        "colab_type": "code",
        "colab": {}
      },
      "source": [
        "#print(best_values)"
      ],
      "execution_count": 0,
      "outputs": []
    },
    {
      "cell_type": "code",
      "metadata": {
        "id": "pFK80gBbBJqR",
        "colab_type": "code",
        "colab": {}
      },
      "source": [
        "#losses = []\n",
        "#beta1 = []\n",
        "#beta2 = []\n",
        "#for item in list(best_values.items()):\n",
        "  #if item[0] < 3: #Filtring values to better understand from graph\n",
        "    #beta1.append(item[1][1])\n",
        "    #beta2.append(item[1][2])\n",
        "    #losses.append(item[0])\n",
        "#D_plot(beta1, beta2, losses, 'Beta1', 'Beta2')"
      ],
      "execution_count": 0,
      "outputs": []
    },
    {
      "cell_type": "markdown",
      "metadata": {
        "id": "P__ZmRgbo2Qe",
        "colab_type": "text"
      },
      "source": [
        "Best couple found is beta1 = 0.90 and beta2 = 0.94, because they were those with no overfitting and best results in 10 epochs"
      ]
    },
    {
      "cell_type": "markdown",
      "metadata": {
        "id": "L76kN7gC540p",
        "colab_type": "text"
      },
      "source": [
        "### Training first model\n",
        "Training model with best hyper-parameters found"
      ]
    },
    {
      "cell_type": "code",
      "metadata": {
        "id": "wT1l4Ec_6vDG",
        "colab_type": "code",
        "colab": {}
      },
      "source": [
        "LR = 1e-4\n",
        "BATCH_SIZE = 64\n",
        "BETAS = (0.90, 0.94)"
      ],
      "execution_count": 0,
      "outputs": []
    },
    {
      "cell_type": "markdown",
      "metadata": {
        "id": "-GWenR-A22aP",
        "colab_type": "text"
      },
      "source": [
        "#### Prepare dataloaders"
      ]
    },
    {
      "cell_type": "code",
      "metadata": {
        "id": "8hdfif8o20kP",
        "colab_type": "code",
        "colab": {}
      },
      "source": [
        "# Dataloaders iterate over pytorch datasets and transparently provide useful functions (e.g. parallelization and shuffling)\n",
        "train_dataloader = DataLoader(train_dataset, batch_size=BATCH_SIZE, num_workers=4, drop_last=True, sampler=train_sampler) #Shuffling in sampler\n",
        "test_dataloader = DataLoader(test_dataset, batch_size=BATCH_SIZE, shuffle=False, num_workers=4)\n",
        "valid_dataloader = DataLoader(train_dataset, batch_size=BATCH_SIZE, num_workers=4, drop_last=True, sampler=valid_sampler) #Shuffling in sampler"
      ],
      "execution_count": 0,
      "outputs": []
    },
    {
      "cell_type": "markdown",
      "metadata": {
        "id": "gbZ1t5Qs2z4j",
        "colab_type": "text"
      },
      "source": [
        "#### Prepare Network"
      ]
    },
    {
      "cell_type": "code",
      "metadata": {
        "id": "9sjq00G94tSc",
        "colab_type": "code",
        "colab": {}
      },
      "source": [
        "net = alexnet() # Loading AlexNet model\n",
        "\n",
        "# AlexNet has 1000 output neurons, corresponding to the 1000 ImageNet's classes\n",
        "# We need 101 outputs for Caltech-101\n",
        "net.classifier[6] = nn.Linear(4096, NUM_CLASSES) # nn.Linear in pytorch is a fully connected layer\n",
        "                                                 # The convolutional layer is nn.Conv2d\n",
        "\n",
        "# We just changed the last layer of AlexNet with a new fully connected layer with 101 outputs\n",
        "# It is mandatory to study torchvision.models.alexnet source code\n",
        "\n",
        "# Choose parameters to optimize\n",
        "# To access a different set of parameters, you have to access submodules of AlexNet\n",
        "# (nn.Module objects, like AlexNet, implement the Composite Pattern)\n",
        "# e.g.: parameters of the fully connected layers: net.classifier.parameters()\n",
        "# e.g.: parameters of the convolutional layers: look at alexnet's source code ;) \n",
        "parameters_to_optimize = net.parameters() # In this case we optimize over all the parameters of AlexNet\n",
        "# Define optimizer\n",
        "# An optimizer updates the weights based on loss\n",
        "# We use Adam\n",
        "#optimizer = optim.Adam(parameters_to_optimize, lr=LR, betas=BETAS, weight_decay=WEIGHT_DECAY)\n",
        "optimizer = optim.Adam(parameters_to_optimize, lr=LR, weight_decay=WEIGHT_DECAY)\n",
        "\n",
        "# Define scheduler\n",
        "# A scheduler dynamically changes learning rate\n",
        "# The most common schedule is the step(-down), which multiplies learning rate by gamma every STEP_SIZE epochs\n",
        "scheduler = optim.lr_scheduler.StepLR(optimizer, step_size=STEP_SIZE, gamma=GAMMA)"
      ],
      "execution_count": 0,
      "outputs": []
    },
    {
      "cell_type": "code",
      "metadata": {
        "id": "_zmyme6hnPQR",
        "colab_type": "code",
        "colab": {}
      },
      "source": [
        "stats = {'valid_losses': [], 'train_losses': [], 'valid_accuracies': [], 'train_accuracies': []}"
      ],
      "execution_count": 0,
      "outputs": []
    },
    {
      "cell_type": "code",
      "metadata": {
        "id": "9i4bjOq453-L",
        "colab_type": "code",
        "colab": {}
      },
      "source": [
        "\n",
        "stats = model_train(net, optimizer, scheduler, stats, epochs=40)"
      ],
      "execution_count": 0,
      "outputs": []
    },
    {
      "cell_type": "markdown",
      "metadata": {
        "id": "qOGOqCiqMP5V",
        "colab_type": "text"
      },
      "source": [
        "#### Plot Losses and accuracies\n"
      ]
    },
    {
      "cell_type": "code",
      "metadata": {
        "id": "WdsJSyK7Ubky",
        "colab_type": "code",
        "colab": {}
      },
      "source": [
        "plot_2d(stats)"
      ],
      "execution_count": 0,
      "outputs": []
    },
    {
      "cell_type": "markdown",
      "metadata": {
        "id": "rpuZ6o9pLkv5",
        "colab_type": "text"
      },
      "source": [
        "### Search for best learning rate - batch_size, SGD + Nesterov Momentum\n",
        "Using hyper-parameters found previously"
      ]
    },
    {
      "cell_type": "code",
      "metadata": {
        "id": "PARlhSE0LxpX",
        "colab_type": "code",
        "colab": {}
      },
      "source": [
        "#best_values = dict()\n",
        "#best_accuracy = 0\n",
        "\n",
        "#max_count = 30\n",
        "#cs_epochs = 10\n",
        "#for count in range(max_count):\n",
        "  #lr = 10**random.uniform(-4, -2) #Initially considered uniform(-5, -2), than uniform(-4, -2)\n",
        "  #batch_size = random.choice([64, 128]) #Initially choice([64, 128, 256, 512]), than choice([64, 128])\n",
        "\n",
        "  #stats = {'valid_losses': [], 'train_losses': [], 'valid_accuracies': [], 'train_accuracies': []}\n",
        "\n",
        "  #print(\"Iteration {}/{}, lr = {}, gamma = {}\".format(count, max_count, lr, batch_size))\n",
        "\n",
        "  #train_dataloader = DataLoader(train_dataset, batch_size=batch_size, num_workers=4, drop_last=True, sampler=train_sampler) \n",
        "  #valid_dataloader = DataLoader(train_dataset, batch_size=batch_size, num_workers=4, drop_last=True, sampler=valid_sampler) \n",
        "\n",
        "  #net = alexnet()\n",
        "  #net.classifier[6] = nn.Linear(4096, NUM_CLASSES)\n",
        "  #parameters_to_optimize = net.parameters()\n",
        "  #optimizer = optim.SGD(parameters_to_optimize, lr=lr, momentum=MOMENTUM, weight_decay=WEIGHT_DECAY, nesterov=True) \n",
        "  #scheduler = optim.lr_scheduler.StepLR(optimizer, step_size=STEP_SIZE, gamma=GAMMA)\n",
        "\n",
        "  #stats = model_train(net, optimizer, scheduler, stats, epochs=cs_epochs)\n",
        "\n",
        "  #Saving best 10 results considering validation loss\n",
        "  #best_values = save_values(stats['valid_losses'], stats['valid_accuracies'], lr, batch_size, best_values)\n",
        "\n",
        "  #if stats['valid_accuracies'][-1] > best_accuracy:\n",
        "    #best_net = copy.deepcopy(net)\n",
        "    #best_accuracy = stats['valid_accuracies'][-1]\n",
        "\n",
        "  #print(\"\")"
      ],
      "execution_count": 0,
      "outputs": []
    },
    {
      "cell_type": "code",
      "metadata": {
        "id": "utKI-fiV1YJU",
        "colab_type": "code",
        "colab": {}
      },
      "source": [
        "#print(best_values)"
      ],
      "execution_count": 0,
      "outputs": []
    },
    {
      "cell_type": "code",
      "metadata": {
        "id": "sxdZrPb0BcSp",
        "colab_type": "code",
        "colab": {}
      },
      "source": [
        "#losses = []\n",
        "#rates = []\n",
        "#batch_sizes = []\n",
        "#for item in list(best_values.items()):\n",
        "  #if item[0] < 4.4:    #Filtring values to better understand from graph\n",
        "    #rates.append(item[1][1])\n",
        "    #batch_sizes.append(item[1][2])\n",
        "    #losses.append(item[0])\n",
        "#D_plot(rates, batch_sizes, losses, 'Learning rate', 'batch_size')"
      ],
      "execution_count": 0,
      "outputs": []
    },
    {
      "cell_type": "markdown",
      "metadata": {
        "id": "C6qNhVCi1ZR3",
        "colab_type": "text"
      },
      "source": [
        "Best couple found is lr = 0.008 and batch size = 64"
      ]
    },
    {
      "cell_type": "markdown",
      "metadata": {
        "id": "YQL5pgUNGvgi",
        "colab_type": "text"
      },
      "source": [
        "### Training second model"
      ]
    },
    {
      "cell_type": "code",
      "metadata": {
        "id": "MMQuvCj_LgVi",
        "colab_type": "code",
        "colab": {}
      },
      "source": [
        "LR = 8e-3\n",
        "BATCH_SIZE = 64\n",
        "STEP_SIZE = 10"
      ],
      "execution_count": 0,
      "outputs": []
    },
    {
      "cell_type": "markdown",
      "metadata": {
        "id": "1VCHfv4e3WvC",
        "colab_type": "text"
      },
      "source": [
        "#### Prepare dataloaders"
      ]
    },
    {
      "cell_type": "code",
      "metadata": {
        "id": "jTc69o7A3W68",
        "colab_type": "code",
        "colab": {}
      },
      "source": [
        "# Dataloaders iterate over pytorch datasets and transparently provide useful functions (e.g. parallelization and shuffling)\n",
        "train_dataloader = DataLoader(train_dataset, batch_size=BATCH_SIZE, num_workers=4, drop_last=True, sampler=train_sampler) #Shuffling in sampler\n",
        "valid_dataloader = DataLoader(train_dataset, batch_size=BATCH_SIZE, num_workers=4, drop_last=True, sampler=valid_sampler) #Shuffling in sampler\n",
        "test_dataloader = DataLoader(test_dataset, batch_size=BATCH_SIZE, shuffle=False, num_workers=4)"
      ],
      "execution_count": 0,
      "outputs": []
    },
    {
      "cell_type": "markdown",
      "metadata": {
        "id": "068nNeCEHoKi",
        "colab_type": "text"
      },
      "source": [
        "#### Prepare Network"
      ]
    },
    {
      "cell_type": "markdown",
      "metadata": {
        "id": "dRDg0OF6tsuz",
        "colab_type": "text"
      },
      "source": [
        "#### Training\n",
        "Manually changing learning rate in cyclic way"
      ]
    },
    {
      "cell_type": "code",
      "metadata": {
        "id": "eDk28N3Xzzr_",
        "colab_type": "code",
        "colab": {}
      },
      "source": [
        "net_sgd_list = []\n",
        "i = 0\n",
        "while True:\n",
        "\n",
        "  net_sgd_list.append(alexnet())\n",
        "\n",
        "  if i > 0:\n",
        "    net_sgd_list[i] = copy.deepcopy(net_sgd_list[i-1])\n",
        "\n",
        "  net_sgd_list[i].classifier[6] = nn.Linear(4096, NUM_CLASSES)\n",
        "  parameters_to_optimize = net_sgd_list[i].parameters()\n",
        "  optimizer = optim.SGD(parameters_to_optimize, lr=LR, momentum=MOMENTUM, weight_decay=WEIGHT_DECAY, nesterov=True)\n",
        "  scheduler = optim.lr_scheduler.StepLR(optimizer, step_size=STEP_SIZE, gamma=GAMMA)\n",
        "\n",
        "  stats = model_train(net_sgd_list[i], optimizer, scheduler, stats, epochs=20)\n",
        "\n",
        "  if len(net_sgd_list) > 10:\n",
        "    break\n",
        "\n",
        "  LR = 8e-4\n",
        "\n",
        "  i+=1"
      ],
      "execution_count": 0,
      "outputs": []
    },
    {
      "cell_type": "markdown",
      "metadata": {
        "id": "ZpbkLw5lHyKv",
        "colab_type": "text"
      },
      "source": [
        "#### Plot Losses and accuracies"
      ]
    },
    {
      "cell_type": "code",
      "metadata": {
        "id": "dpdMLThdH0lm",
        "colab_type": "code",
        "colab": {}
      },
      "source": [
        "plot_2d(stats)"
      ],
      "execution_count": 0,
      "outputs": []
    },
    {
      "cell_type": "markdown",
      "metadata": {
        "id": "KCjlPTe1_fcL",
        "colab_type": "text"
      },
      "source": [
        "## Comparing results\n",
        "SGD + Nesterov Momentum (cyclic lr, max=8e-3 min=8e-5, batch_size=64, step_size=10) leads to an acccuracy of approximately 56% on the validation set, while Adam (lr=1e-4, batch_size=64, betas=(0.90,0.94),) to 51.4%.\n",
        "\n",
        "Using the mean of the two models we reach 77.1% of accuracy on the validation set."
      ]
    },
    {
      "cell_type": "code",
      "metadata": {
        "id": "EZ1ksfnAAcmS",
        "colab_type": "code",
        "colab": {}
      },
      "source": [
        "model_test(valid_dataloader, net, net2=[net_sgd_list[-1]])"
      ],
      "execution_count": 0,
      "outputs": []
    },
    {
      "cell_type": "markdown",
      "metadata": {
        "colab_type": "text",
        "id": "sjKAbYXx9UFS"
      },
      "source": [
        "## Test\n",
        "Use mean of two models"
      ]
    },
    {
      "cell_type": "code",
      "metadata": {
        "id": "EO3HV5pqJg1o",
        "colab_type": "code",
        "colab": {}
      },
      "source": [
        "model_test(test_dataloader, net_sgd_list[-1], net2=[net])"
      ],
      "execution_count": 0,
      "outputs": []
    },
    {
      "cell_type": "markdown",
      "metadata": {
        "id": "GatiuQfg5OJ9",
        "colab_type": "text"
      },
      "source": [
        "## Notes\n",
        "- RMSProp and learning rate >= 0.0003 lead to high losses\n",
        "- Adam: high betas, in particular high values (> 0.90) for beta1 lead to smaller accuracies and higher losses, considering few epochs --> 51.4 % accuracy on validation set\n",
        "- SGD + Nesterov Momentum: Tried with cycic learning rate between 0.008 and 8e-5 stopping model every 10 epochs, but overfittng....trying with step size = 10 and model stopped every 20 epochs --> 56% on validation set\n",
        "- SGD + Nesterov Momentum and Adam --> 60.5% on test set"
      ]
    },
    {
      "cell_type": "markdown",
      "metadata": {
        "id": "EaLH47m05nB-",
        "colab_type": "text"
      },
      "source": [
        "## Transfer Learning\n",
        "AlexNet with weights trained on the ImageNet dataset"
      ]
    },
    {
      "cell_type": "markdown",
      "metadata": {
        "colab_type": "text",
        "id": "5IFkwxKVgchV"
      },
      "source": [
        "### Define Data Preprocessing\n",
        " Using mean and standard deviation of ImageNet"
      ]
    },
    {
      "cell_type": "code",
      "metadata": {
        "colab_type": "code",
        "id": "bvA0JuLbghCV",
        "colab": {}
      },
      "source": [
        "# Define transforms for training phase\n",
        "train_transform = transforms.Compose([transforms.Resize(256),      # Resizes short size of the PIL image to 256\n",
        "                                      transforms.CenterCrop(224),  # Crops a central square patch of the image\n",
        "                                                                   # 224 because torchvision's AlexNet needs a 224x224 input!\n",
        "                                                                   # Remember this when applying different transformations, otherwise you get an error\n",
        "                                      transforms.ToTensor(), # Turn PIL Image to torch.Tensor\n",
        "                                      transforms.Normalize(mean=[0.485, 0.456, 0.406], std=[0.229, 0.224, 0.225]) # Normalizes tensor with mean and standard deviation\n",
        "])\n",
        "# Define transforms for the evaluation phase\n",
        "eval_transform = transforms.Compose([transforms.Resize(256),\n",
        "                                      transforms.CenterCrop(224),\n",
        "                                      transforms.ToTensor(),\n",
        "                                      transforms.Normalize(mean=[0.485, 0.456, 0.406], std=[0.229, 0.224, 0.225])                                    \n",
        "])"
      ],
      "execution_count": 0,
      "outputs": []
    },
    {
      "cell_type": "markdown",
      "metadata": {
        "colab_type": "text",
        "id": "cg9lE2kDguG_"
      },
      "source": [
        "### Prepare Dataset"
      ]
    },
    {
      "cell_type": "code",
      "metadata": {
        "colab_type": "code",
        "id": "Laodt1eggsDN",
        "colab": {}
      },
      "source": [
        "# Prepare Pytorch train/test Datasets\n",
        "train_dataset = Caltech(DATA_DIR, transform=train_transform, split='train')\n",
        "test_dataset = Caltech(DATA_DIR, transform=eval_transform, split='test')\n",
        "# Creating data indices for training and validation splits:\n",
        "train_indices = []\n",
        "val_indices = []\n",
        "\n",
        "for image_class in train_dataset.classes:\n",
        "  class_indices = train_dataset.get_index_by_class(image_class)\n",
        "  np.random.shuffle(class_indices)\n",
        "  split = int(np.floor(0.5 * len(class_indices)))\n",
        "  train_indices = train_indices + class_indices[split:]\n",
        "  val_indices = val_indices + class_indices[:split]\n",
        "\n",
        "# Creating PT data samplers and loaders:\n",
        "train_sampler = SubsetRandomSampler(train_indices)\n",
        "valid_sampler = SubsetRandomSampler(val_indices)\n",
        "\n",
        "# Check dataset sizes\n",
        "print('Train Dataset: {}'.format(len(train_indices)))\n",
        "print('Validation Dataset: {}'.format(len(val_indices)))\n",
        "print('Test Dataset: {}'.format(len(test_dataset)))"
      ],
      "execution_count": 0,
      "outputs": []
    },
    {
      "cell_type": "markdown",
      "metadata": {
        "colab_type": "text",
        "id": "NdMJb57YC_-6"
      },
      "source": [
        "### Prepare dataloaders"
      ]
    },
    {
      "cell_type": "code",
      "metadata": {
        "colab_type": "code",
        "id": "h6BPdvccDDpa",
        "colab": {}
      },
      "source": [
        "# Dataloaders iterate over pytorch datasets and transparently provide useful functions (e.g. parallelization and shuffling)\n",
        "train_dataloader = DataLoader(train_dataset, batch_size=BATCH_SIZE, num_workers=4, drop_last=True, sampler=train_sampler) #Shuffling in sampler\n",
        "valid_dataloader = DataLoader(train_dataset, batch_size=BATCH_SIZE, num_workers=4, drop_last=True, sampler=valid_sampler) #Shuffling in sampler\n",
        "test_dataloader = DataLoader(test_dataset, batch_size=BATCH_SIZE, shuffle=False, num_workers=4)"
      ],
      "execution_count": 0,
      "outputs": []
    },
    {
      "cell_type": "markdown",
      "metadata": {
        "id": "JWzhp0HIiTz6",
        "colab_type": "text"
      },
      "source": [
        "### Hyperparameters experiments"
      ]
    },
    {
      "cell_type": "markdown",
      "metadata": {
        "id": "fEKZcYKKod-g",
        "colab_type": "text"
      },
      "source": [
        "#### Optimizers\n",
        "Adam, SGD + Momentum, SGD + Nesterov Momentum\n",
        "\n",
        "Default learning rates and batch size = 256"
      ]
    },
    {
      "cell_type": "code",
      "metadata": {
        "id": "wlrwdNfZotQf",
        "colab_type": "code",
        "colab": {}
      },
      "source": [
        "#max_count = 3\n",
        "#cs_epochs = 15\n",
        "#for count in range(max_count):\n",
        "\n",
        "  #stats = {'valid_losses': [], 'train_losses': [], 'valid_accuracies': [], 'train_accuracies': []}\n",
        "\n",
        "  #print(\"Iteration {}/{}, optimizer_id = {}\".format(count, max_count, count))  \n",
        "\n",
        "  #net = alexnet(pretrained = True)\n",
        "  #net.classifier[6] = nn.Linear(4096, NUM_CLASSES)\n",
        "  #parameters_to_optimize = net.parameters() \n",
        "\n",
        "  #if count == 0:\n",
        "    #optimizer = optim.SGD(parameters_to_optimize, lr=LR, momentum=MOMENTUM, weight_decay=WEIGHT_DECAY, nesterov=True) #SGD + Nesterov Momentum\n",
        "  #elif count == 1:\n",
        "    #optimizer = optim.Adam(parameters_to_optimize, weight_decay=WEIGHT_DECAY) #Adam, default lr and betas\n",
        "  #else:\n",
        "    #optimizer = optim.SGD(parameters_to_optimize, lr=LR, momentum=MOMENTUM, weight_decay=WEIGHT_DECAY) #SGD + Momentum\n",
        "\n",
        "  #scheduler = optim.lr_scheduler.StepLR(optimizer, step_size=STEP_SIZE, gamma=GAMMA)\n",
        "\n",
        "  #model_train(net, optimizer, scheduler, stats, epochs=cs_epochs)\n",
        "\n",
        "  #print(\"\")"
      ],
      "execution_count": 0,
      "outputs": []
    },
    {
      "cell_type": "markdown",
      "metadata": {
        "id": "o7n8JJIPgzzg",
        "colab_type": "text"
      },
      "source": [
        "While both SGD optimizers reach losses around 0.62 on the validation set in 8/9 epochs, before overfitting, Adam stops at 2.00 and then starts to overfit the data."
      ]
    },
    {
      "cell_type": "markdown",
      "metadata": {
        "id": "0TS5SDvlipkX",
        "colab_type": "text"
      },
      "source": [
        "#### Learning rate and batch size"
      ]
    },
    {
      "cell_type": "code",
      "metadata": {
        "colab_type": "code",
        "id": "UaSGyXu_kR2w",
        "colab": {}
      },
      "source": [
        "#best_values = dict()\n",
        "#best_accuracy = 0\n",
        "\n",
        "#max_count = 30\n",
        "#cs_epochs = 10\n",
        "#for count in range(max_count):\n",
        "  #lr = random.uniform(1e-3, 4*1e-4) #Initially considered 10*uniform(-5, -2), than uniform(1e-3, 4*1e-4)\n",
        "  #batch_size = random.choice([64, 256]) #Initially choice([64, 128, 256]), than choice([64, 256])\n",
        "\n",
        "  #stats = {'valid_losses': [], 'train_losses': [], 'valid_accuracies': [], 'train_accuracies': []}\n",
        "\n",
        "  #print(\"Iteration {}/{}, lr = {}, batch_size = {}\".format(count, max_count, lr, batch_size))\n",
        "\n",
        "  #train_dataloader = DataLoader(train_dataset, batch_size=batch_size, num_workers=4, drop_last=True, sampler=train_sampler) \n",
        "  #valid_dataloader = DataLoader(train_dataset, batch_size=batch_size, num_workers=4, drop_last=True, sampler=valid_sampler) \n",
        "\n",
        "  #net = alexnet(pretrained = True)\n",
        "  #net.classifier[6] = nn.Linear(4096, NUM_CLASSES)\n",
        "  #parameters_to_optimize = net.parameters()\n",
        "  #optimizer = optim.SGD(parameters_to_optimize, lr=lr, momentum=MOMENTUM, weight_decay=WEIGHT_DECAY, nesterov=True) #SGD + Nesterov Momentum   \n",
        "  #scheduler = optim.lr_scheduler.StepLR(optimizer, step_size=STEP_SIZE, gamma=GAMMA)\n",
        "\n",
        "  #stats = model_train(net, optimizer, scheduler, stats, epochs=cs_epochs)\n",
        "\n",
        "  #Saving best 10 results considering validation loss\n",
        "  #best_values = save_values(stats['valid_losses'], stats['valid_accuracies'], lr, batch_size, best_values)\n",
        "\n",
        "  #if stats['valid_accuracies'][-1] > best_accuracy:\n",
        "    #best_net = copy.deepcopy(net)\n",
        "    #best_accuracy = stats['valid_accuracies'][-1]\n",
        "\n",
        "  #print(\"\")"
      ],
      "execution_count": 0,
      "outputs": []
    },
    {
      "cell_type": "code",
      "metadata": {
        "id": "C_q7ZEybynOn",
        "colab_type": "code",
        "colab": {}
      },
      "source": [
        "#print(best_values)"
      ],
      "execution_count": 0,
      "outputs": []
    },
    {
      "cell_type": "code",
      "metadata": {
        "id": "I3CWOBVt0gt3",
        "colab_type": "code",
        "colab": {}
      },
      "source": [
        "#losses = []\n",
        "#rates = []\n",
        "#batch_sizes = []\n",
        "#for item in list(best_values.items()):\n",
        "  #if item[0] < 4.4:    #Filtring values to better understand from graph\n",
        "    #rates.append(item[1][1])\n",
        "    #batch_sizes.append(item[1][2])\n",
        "    #losses.append(item[0])\n",
        "#D_plot(rates, batch_sizes, losses, 'Learning rate', 'batch_size')"
      ],
      "execution_count": 0,
      "outputs": []
    },
    {
      "cell_type": "markdown",
      "metadata": {
        "id": "WRU26tCoiuHg",
        "colab_type": "text"
      },
      "source": [
        "#### Gamma"
      ]
    },
    {
      "cell_type": "code",
      "metadata": {
        "colab_type": "code",
        "id": "8to1_7c7kjJ4",
        "colab": {}
      },
      "source": [
        "#best_values = dict()\n",
        "#best_accuracy = 0\n",
        "\n",
        "#lr = 1e-3 #Found previously\n",
        "\n",
        "#batch_size = 64 #Found previously\n",
        "\n",
        "#train_dataloader = DataLoader(train_dataset, batch_size=batch_size, num_workers=4, drop_last=True, sampler=train_sampler) \n",
        "#valid_dataloader = DataLoader(train_dataset, batch_size=batch_size, num_workers=4, drop_last=True, sampler=valid_sampler) \n",
        "\n",
        "#max_count = 30\n",
        "#cs_epochs = 8\n",
        "#for count in range(max_count):\n",
        "  #gamma = random.uniform(0.001, 0.99) #Initially uniform(0.001, 0.99), than uniform(0.04, 0.3)\n",
        "\n",
        "  #stats = {'valid_losses': [], 'train_losses': [], 'valid_accuracies': [], 'train_accuracies': []}\n",
        "\n",
        "  #print(\"Iteration {}/{}, gamma = {}\".format(count, max_count, gamma))\n",
        "\n",
        "  #net = alexnet(pretrained = True)\n",
        "  #net.classifier[6] = nn.Linear(4096, NUM_CLASSES)\n",
        "  #parameters_to_optimize = net.parameters()\n",
        "  #optimizer = optim.SGD(parameters_to_optimize, lr=lr, momentum=MOMENTUM, weight_decay=WEIGHT_DECAY, nesterov=True) #SGD + Nesterov Momentum\n",
        "  #scheduler = optim.lr_scheduler.StepLR(optimizer, step_size=STEP_SIZE, gamma=gamma)\n",
        "\n",
        "  #stats = model_train(net, optimizer, scheduler, stats, epochs=cs_epochs)\n",
        "\n",
        "  #Saving best 10 results considering validation loss\n",
        "  #best_values = save_values(stats['valid_losses'], stats['valid_accuracies'], gamma, -1, best_values)\n",
        "\n",
        "  #if stats['valid_accuracies'][-1] > best_accuracy:\n",
        "    #best_net = copy.deepcopy(net)\n",
        "    #best_accuracy = stats['valid_accuracies'][-1]\n",
        "\n",
        "  #print(\"\")"
      ],
      "execution_count": 0,
      "outputs": []
    },
    {
      "cell_type": "code",
      "metadata": {
        "colab_type": "code",
        "id": "kvhcEm830oAX",
        "colab": {}
      },
      "source": [
        "#print(best_values)"
      ],
      "execution_count": 0,
      "outputs": []
    },
    {
      "cell_type": "markdown",
      "metadata": {
        "id": "GsaFgtXheipp",
        "colab_type": "text"
      },
      "source": [
        "### Train"
      ]
    },
    {
      "cell_type": "code",
      "metadata": {
        "id": "ULsKKptkkSQa",
        "colab_type": "code",
        "colab": {}
      },
      "source": [
        "LR = (1e-3)/2\n",
        "BATCH_SIZE = 32\n",
        "GAMMA = 0.11\n",
        "STEP_SIZE = 10 "
      ],
      "execution_count": 0,
      "outputs": []
    },
    {
      "cell_type": "code",
      "metadata": {
        "colab_type": "code",
        "id": "dKQyef0CkgmU",
        "colab": {}
      },
      "source": [
        "# Dataloaders iterate over pytorch datasets and transparently provide useful functions (e.g. parallelization and shuffling)\n",
        "train_dataloader = DataLoader(train_dataset, batch_size=BATCH_SIZE, num_workers=4, drop_last=True, sampler=train_sampler) #Shuffling in sampler\n",
        "valid_dataloader = DataLoader(train_dataset, batch_size=BATCH_SIZE, num_workers=4, drop_last=True, sampler=valid_sampler) #Shuffling in sampler\n",
        "test_dataloader = DataLoader(test_dataset, batch_size=BATCH_SIZE, shuffle=False, num_workers=4)"
      ],
      "execution_count": 0,
      "outputs": []
    },
    {
      "cell_type": "markdown",
      "metadata": {
        "id": "ZiTOVQ_NjQGv",
        "colab_type": "text"
      },
      "source": [
        "#### Fully connected layers' parameters"
      ]
    },
    {
      "cell_type": "code",
      "metadata": {
        "colab_type": "code",
        "id": "NtRFUp8ejS5O",
        "colab": {}
      },
      "source": [
        "net_pretrained_c = alexnet(pretrained = True)\n",
        "net_pretrained_c.classifier[6] = nn.Linear(4096, NUM_CLASSES)\n",
        "parameters_to_optimize = net_pretrained_c.classifier.parameters()\n",
        "\n",
        "#Using SGD + Nesterov momentum\n",
        "optimizer = optim.SGD(parameters_to_optimize, lr=LR, momentum=MOMENTUM, weight_decay=WEIGHT_DECAY, nesterov=True)\n",
        "\n",
        "scheduler = optim.lr_scheduler.StepLR(optimizer, step_size=STEP_SIZE, gamma=GAMMA) \n",
        "stats = {'valid_losses': [], 'train_losses': [], 'valid_accuracies': [], 'train_accuracies': []}"
      ],
      "execution_count": 0,
      "outputs": []
    },
    {
      "cell_type": "code",
      "metadata": {
        "id": "tL7keMD5k7oS",
        "colab_type": "code",
        "colab": {}
      },
      "source": [
        "stats = model_train(net_pretrained_c, optimizer, scheduler, stats)"
      ],
      "execution_count": 0,
      "outputs": []
    },
    {
      "cell_type": "code",
      "metadata": {
        "id": "rhyykh4zlLhj",
        "colab_type": "code",
        "colab": {}
      },
      "source": [
        "plot_2d(stats)"
      ],
      "execution_count": 0,
      "outputs": []
    },
    {
      "cell_type": "markdown",
      "metadata": {
        "colab_type": "text",
        "id": "cO_CbCRpkqrE"
      },
      "source": [
        "#### Convolutional layers' parameters"
      ]
    },
    {
      "cell_type": "code",
      "metadata": {
        "id": "_81dRKUr0Dej",
        "colab_type": "code",
        "colab": {}
      },
      "source": [
        "net_sgd_list = []\n",
        "stats = {'valid_losses': [], 'train_losses': [], 'valid_accuracies': [], 'train_accuracies': []}\n",
        "i = 0\n",
        "while True:\n",
        "\n",
        "  net_sgd_list.append(alexnet())\n",
        "\n",
        "  if i > 0:\n",
        "    net_sgd_list[i] = copy.deepcopy(net_sgd_list[i-1])\n",
        "\n",
        "  net_sgd_list[i] = alexnet(pretrained = True)\n",
        "  net_sgd_list[i].classifier[6] = nn.Linear(4096, NUM_CLASSES)\n",
        "  parameters_to_optimize = net_sgd_list[i].features.parameters()\n",
        "\n",
        "  #Using SGD + Nesterov momentum\n",
        "  optimizer = optim.SGD(parameters_to_optimize, lr=LR, momentum=MOMENTUM, weight_decay=WEIGHT_DECAY, nesterov=True)\n",
        "\n",
        "  scheduler = optim.lr_scheduler.StepLR(optimizer, step_size=STEP_SIZE, gamma=GAMMA)\n",
        "\n",
        "  stats = model_train(net_sgd_list[i], optimizer, scheduler, stats, epochs=20)\n",
        "\n",
        "  if len(net_sgd_list) > 10:\n",
        "    break\n",
        "\n",
        "  LR = 1e-2\n",
        "\n",
        "  i+=1"
      ],
      "execution_count": 0,
      "outputs": []
    },
    {
      "cell_type": "code",
      "metadata": {
        "id": "jA2rZ2lvlMWS",
        "colab_type": "code",
        "colab": {
          "base_uri": "https://localhost:8080/",
          "height": 283
        },
        "outputId": "c34a36e7-45a8-47a8-9167-516af705d241"
      },
      "source": [
        "plot_2d(stats)"
      ],
      "execution_count": 35,
      "outputs": [
        {
          "output_type": "display_data",
          "data": {
            "image/png": "[encoded data removed]",
            "text/plain": [
              "<Figure size 432x288 with 2 Axes>"
            ]
          },
          "metadata": {
            "tags": []
          }
        }
      ]
    },
    {
      "cell_type": "markdown",
      "metadata": {
        "id": "RqtHhCQO2D4I",
        "colab_type": "text"
      },
      "source": [
        "### Test"
      ]
    },
    {
      "cell_type": "markdown",
      "metadata": {
        "id": "J4PdtTdL2J-i",
        "colab_type": "text"
      },
      "source": [
        "#### Classier's parameters"
      ]
    },
    {
      "cell_type": "code",
      "metadata": {
        "id": "k_llAuDs2Suy",
        "colab_type": "code",
        "colab": {}
      },
      "source": [
        "model_test(test_dataloader, net_pretrained_c)"
      ],
      "execution_count": 0,
      "outputs": []
    },
    {
      "cell_type": "markdown",
      "metadata": {
        "id": "DHjUhjAb2OXB",
        "colab_type": "text"
      },
      "source": [
        "#### Convolutional' parameters"
      ]
    },
    {
      "cell_type": "code",
      "metadata": {
        "id": "QhxRJNXU2TFY",
        "colab_type": "code",
        "colab": {}
      },
      "source": [
        "model_test(test_dataloader, net_sgd_list[-1])"
      ],
      "execution_count": 0,
      "outputs": []
    },
    {
      "cell_type": "markdown",
      "metadata": {
        "id": "0OI-0QT0lA8r",
        "colab_type": "text"
      },
      "source": [
        "### Notes\n",
        "- Batch_size increased to train convolutional layers, because training too slow with batch of 64, for the same reason increased learning rate (1e-3 --> 1e-2)\n",
        "- batch 64, lr 1e-3 classifier --> 76.5% (3 epochs) validation\n",
        "- batch 32, lr 1e-3/3 classifier --> 82.9% (7 epochs) test, 83.5% validation\n",
        "- batch 256, cyclic lr 1e-2 -> 1e-3, convolutional --> 48.7% (40 epochs) validation"
      ]
    },
    {
      "cell_type": "markdown",
      "metadata": {
        "id": "AZ7mUS-Z9yt2",
        "colab_type": "text"
      },
      "source": [
        "## Data augmentation\n",
        "Training classier's parameters of pyTorch's implementation of AlexNet (freezing convolutional layers) with three different set of data transformation."
      ]
    },
    {
      "cell_type": "markdown",
      "metadata": {
        "colab_type": "text",
        "id": "P2U_sUESKot5"
      },
      "source": [
        "### Define Data Preprocessing 1\n",
        " Using mean and standard deviation of ImageNet"
      ]
    },
    {
      "cell_type": "code",
      "metadata": {
        "colab_type": "code",
        "id": "9Yamo2MAKrH6",
        "colab": {}
      },
      "source": [
        "train_transform_1 = transforms.Compose([transforms.Resize(256),      # Resizes short size of the PIL image to 256\n",
        "                                      transforms.CenterCrop(224),  # Crops a central square patch of the image\n",
        "                                                                   # 224 because torchvision's AlexNet needs a 224x224 input!\n",
        "                                                                   # Remember this when applying different transformations, otherwise you get an error\n",
        "                                      transforms.RandomRotation(degrees=20),\n",
        "                                      transforms.RandomHorizontalFlip(),\n",
        "                                      transforms.ToTensor(), # Turn PIL Image to torch.Tensor\n",
        "                                      transforms.Normalize(mean=[0.485, 0.456, 0.406], std=[0.229, 0.224, 0.225]) # Normalizes tensor with mean and standard deviation                 \n",
        "])\n",
        "\n",
        "eval_transform_1 = transforms.Compose([transforms.Resize(256),\n",
        "                                      transforms.CenterCrop(224),\n",
        "                                      transforms.RandomRotation(degrees=20),\n",
        "                                      transforms.RandomHorizontalFlip(),\n",
        "                                      transforms.ToTensor(),\n",
        "                                      transforms.Normalize(mean=[0.485, 0.456, 0.406], std=[0.229, 0.224, 0.225])                                                           \n",
        "])"
      ],
      "execution_count": 0,
      "outputs": []
    },
    {
      "cell_type": "markdown",
      "metadata": {
        "colab_type": "text",
        "id": "NbX3uBi0LNCH"
      },
      "source": [
        "### Define Data Preprocessing 2\n",
        " Using mean and standard deviation of ImageNet"
      ]
    },
    {
      "cell_type": "code",
      "metadata": {
        "colab_type": "code",
        "id": "VeWut018LN7X",
        "colab": {}
      },
      "source": [
        "train_transform_2 = transforms.Compose([transforms.Resize(256),      # Resizes short size of the PIL image to 256\n",
        "                                      transforms.CenterCrop(224),  # Crops a central square patch of the image\n",
        "                                                                   # 224 because torchvision's AlexNet needs a 224x224 input!\n",
        "                                                                   # Remember this when applying different transformations, otherwise you get an error\n",
        "                                      transforms.RandomHorizontalFlip(),\n",
        "                                      transforms.RandomGrayscale(p=0.1),\n",
        "                                      transforms.ToTensor(), # Turn PIL Image to torch.Tensor\n",
        "                                      transforms.Normalize(mean=[0.485, 0.456, 0.406], std=[0.229, 0.224, 0.225]) # Normalizes tensor with mean and standard deviation\n",
        "])\n",
        "\n",
        "eval_transform_2 = transforms.Compose([transforms.Resize(256),\n",
        "                                      transforms.CenterCrop(224),\n",
        "                                      transforms.RandomHorizontalFlip(),\n",
        "                                      transforms.RandomGrayscale(p=0.1),\n",
        "                                      transforms.ToTensor(),\n",
        "                                      transforms.Normalize(mean=[0.485, 0.456, 0.406], std=[0.229, 0.224, 0.225])                                    \n",
        "])"
      ],
      "execution_count": 0,
      "outputs": []
    },
    {
      "cell_type": "markdown",
      "metadata": {
        "colab_type": "text",
        "id": "nOHRMSHOLQoo"
      },
      "source": [
        "### Define Data Preprocessing 3\n",
        " Using mean and standard deviation of ImageNet"
      ]
    },
    {
      "cell_type": "code",
      "metadata": {
        "colab_type": "code",
        "id": "Hkrm42iFLRcI",
        "colab": {}
      },
      "source": [
        "train_transform_3 = transforms.Compose([transforms.Resize(256),      # Resizes short size of the PIL image to 256\n",
        "                                      transforms.RandomRotation(degrees=5),\n",
        "                                      transforms.RandomHorizontalFlip(),\n",
        "                                      transforms.RandomGrayscale(p=0.1),\n",
        "                                      transforms.RandomPerspective(),\n",
        "                                      transforms.CenterCrop(224),  # Crops a central square patch of the image\n",
        "                                                                   # 224 because torchvision's AlexNet needs a 224x224 input!\n",
        "                                                                   # Remember this when applying different transformations, otherwise you get an error\n",
        "                                      transforms.ToTensor(), # Turn PIL Image to torch.Tensor\n",
        "                                      transforms.Normalize(mean=[0.485, 0.456, 0.406], std=[0.229, 0.224, 0.225]) # Normalizes tensor with mean and standard deviation\n",
        "])\n",
        "\n",
        "eval_transform_3 = transforms.Compose([transforms.Resize(256),\n",
        "                                      transforms.RandomRotation(degrees=5),\n",
        "                                      transforms.RandomHorizontalFlip(),\n",
        "                                      transforms.RandomGrayscale(p=0.1),\n",
        "                                      transforms.RandomPerspective(),\n",
        "                                      transforms.CenterCrop(224),\n",
        "                                      transforms.ToTensor(),\n",
        "                                      transforms.Normalize(mean=[0.485, 0.456, 0.406], std=[0.229, 0.224, 0.225])                                    \n",
        "])"
      ],
      "execution_count": 0,
      "outputs": []
    },
    {
      "cell_type": "markdown",
      "metadata": {
        "colab_type": "text",
        "id": "vkHscYJJKvvp"
      },
      "source": [
        "### Prepare Dataset"
      ]
    },
    {
      "cell_type": "code",
      "metadata": {
        "colab_type": "code",
        "id": "EYhcckioK1cp",
        "colab": {}
      },
      "source": [
        "train_transform = train_transform_2\n",
        "eval_transform = eval_transform_2\n",
        "\n",
        "# Prepare Pytorch train/test Datasets\n",
        "train_dataset = Caltech(DATA_DIR, transform=train_transform, split='train')\n",
        "test_dataset = Caltech(DATA_DIR, transform=eval_transform, split='test')\n",
        "# Creating data indices for training and validation splits:\n",
        "train_indices = []\n",
        "val_indices = []\n",
        "\n",
        "for image_class in train_dataset.classes:\n",
        "  class_indices = train_dataset.get_index_by_class(image_class)\n",
        "  np.random.shuffle(class_indices)\n",
        "  split = int(np.floor(0.5 * len(class_indices)))\n",
        "  train_indices = train_indices + class_indices[split:]\n",
        "  val_indices = val_indices + class_indices[:split]\n",
        "\n",
        "# Creating PT data samplers and loaders:\n",
        "train_sampler = SubsetRandomSampler(train_indices)\n",
        "valid_sampler = SubsetRandomSampler(val_indices)\n",
        "\n",
        "# Check dataset sizes\n",
        "print('Train Dataset: {}'.format(len(train_indices)))\n",
        "print('Validation Dataset: {}'.format(len(val_indices)))\n",
        "print('Test Dataset: {}'.format(len(test_dataset)))"
      ],
      "execution_count": 0,
      "outputs": []
    },
    {
      "cell_type": "markdown",
      "metadata": {
        "colab_type": "text",
        "id": "J03Us5inK8ej"
      },
      "source": [
        "### Prepare dataloaders"
      ]
    },
    {
      "cell_type": "code",
      "metadata": {
        "colab_type": "code",
        "id": "XpPnJgd9NXdX",
        "colab": {}
      },
      "source": [
        "LR = 1e-3\n",
        "BATCH_SIZE = 64\n",
        "GAMMA = 0.11\n",
        "STEP_SIZE = 5"
      ],
      "execution_count": 0,
      "outputs": []
    },
    {
      "cell_type": "code",
      "metadata": {
        "colab_type": "code",
        "id": "B8zdz0N1K-B4",
        "colab": {}
      },
      "source": [
        "train_dataloader = DataLoader(train_dataset, batch_size=BATCH_SIZE, num_workers=4, drop_last=True, sampler=train_sampler) #Shuffling in sampler\n",
        "valid_dataloader = DataLoader(train_dataset, batch_size=BATCH_SIZE, num_workers=4, drop_last=True, sampler=valid_sampler) #Shuffling in sampler\n",
        "test_dataloader = DataLoader(test_dataset, batch_size=BATCH_SIZE, shuffle=False, num_workers=4)"
      ],
      "execution_count": 0,
      "outputs": []
    },
    {
      "cell_type": "markdown",
      "metadata": {
        "colab_type": "text",
        "id": "s4epawXFNZw6"
      },
      "source": [
        "### Train"
      ]
    },
    {
      "cell_type": "code",
      "metadata": {
        "colab_type": "code",
        "id": "tVT8HwdpNdfT",
        "colab": {}
      },
      "source": [
        "net_pretrained_da = alexnet(pretrained = True)\n",
        "net_pretrained_da.classifier[6] = nn.Linear(4096, NUM_CLASSES)\n",
        "parameters_to_optimize = net_pretrained_da.classifier.parameters()\n",
        "\n",
        "#Using SGD + Nesterov momentum\n",
        "optimizer = optim.SGD(parameters_to_optimize, lr=LR, momentum=MOMENTUM, weight_decay=WEIGHT_DECAY, nesterov=True)\n",
        "\n",
        "scheduler = optim.lr_scheduler.StepLR(optimizer, step_size=STEP_SIZE, gamma=GAMMA) \n",
        "stats = {'valid_losses': [], 'train_losses': [], 'valid_accuracies': [], 'train_accuracies': []}"
      ],
      "execution_count": 0,
      "outputs": []
    },
    {
      "cell_type": "code",
      "metadata": {
        "colab_type": "code",
        "id": "nFAZ0FPENflZ",
        "colab": {}
      },
      "source": [
        "stats = model_train(net_pretrained_da, optimizer, scheduler, stats)"
      ],
      "execution_count": 0,
      "outputs": []
    },
    {
      "cell_type": "code",
      "metadata": {
        "colab_type": "code",
        "id": "-cQUbR7kNl0e",
        "colab": {}
      },
      "source": [
        "plot_2d(stats)"
      ],
      "execution_count": 0,
      "outputs": []
    },
    {
      "cell_type": "markdown",
      "metadata": {
        "id": "iekMmCdIPnaf",
        "colab_type": "text"
      },
      "source": [
        "### Comparing results\n",
        "Transformation 1 leads to an accuracy of 76.8% on validation test.\n",
        "\n",
        "Transformation 2 leads to an accuracy of 81.8% on validation test.\n",
        "\n",
        "Transformation 3 leads to an accuracy of 79.2% on validation test.\n",
        "\n",
        "Transformation 1+2 --> 83.8% on validation test\n",
        "\n",
        "Transformation 1+3 --> 83.2% on validation test\n",
        "\n",
        "Transformation 2+3 --> 83.5% on validation test\n",
        "\n",
        "Transformation 1+2+3 --> 85.5% on validation test"
      ]
    },
    {
      "cell_type": "code",
      "metadata": {
        "colab_type": "code",
        "id": "Z-EwhDFKPtlX",
        "colab": {}
      },
      "source": [
        "model_test(valid_dataloader, net_pretrained_l[1], net2=[net_pretrained_l[0], net_pretrained_l[2]])"
      ],
      "execution_count": 0,
      "outputs": []
    },
    {
      "cell_type": "markdown",
      "metadata": {
        "colab_type": "text",
        "id": "6d8Kny9WNn7Y"
      },
      "source": [
        "### Test\n",
        "Testing using model train with transformation 1, 2 and 3, because this leads to better performances on validation set."
      ]
    },
    {
      "cell_type": "code",
      "metadata": {
        "colab_type": "code",
        "id": "AvPDg_QsNqln",
        "colab": {}
      },
      "source": [
        "model_test(test_dataloader, net_pretrained_l[1], net2=[net_pretrained_l[2], net_pretrained_l[0]])"
      ],
      "execution_count": 0,
      "outputs": []
    },
    {
      "cell_type": "markdown",
      "metadata": {
        "colab_type": "text",
        "id": "-cwGStAMN_mp"
      },
      "source": [
        "### Notes\n",
        "1,2 and 3 --> 79.7% on test set"
      ]
    },
    {
      "cell_type": "markdown",
      "metadata": {
        "id": "wkMH-jDDt8Rj",
        "colab_type": "text"
      },
      "source": [
        "##VGG\n",
        "Using hyper-parameters used in data augmentation, set 2 of tansformations and pretrained models.\n",
        "\n",
        "Freezing only convolution's layers.\n",
        "\n",
        "Step size = 5\n",
        "batch size = 32"
      ]
    },
    {
      "cell_type": "code",
      "metadata": {
        "id": "jW3_wnChuW51",
        "colab_type": "code",
        "colab": {}
      },
      "source": [
        "#Train\n",
        "net_pretrained_vgg_19_bn = vgg19_bn(pretrained=True)\n",
        "net_pretrained_vgg_19_bn.classifier[6] = nn.Linear(4096, NUM_CLASSES)\n",
        "parameters_to_optimize = net_pretrained_vgg_19_bn.classifier.parameters()\n",
        "\n",
        "#Using SGD + Nesterov momentum\n",
        "optimizer = optim.SGD(parameters_to_optimize, lr=LR, momentum=MOMENTUM, weight_decay=WEIGHT_DECAY, nesterov=True)\n",
        "\n",
        "scheduler = optim.lr_scheduler.StepLR(optimizer, step_size=STEP_SIZE, gamma=GAMMA) \n",
        "stats = {'valid_losses': [], 'train_losses': [], 'valid_accuracies': [], 'train_accuracies': []}"
      ],
      "execution_count": 0,
      "outputs": []
    },
    {
      "cell_type": "code",
      "metadata": {
        "id": "0QJnEu0PMirk",
        "colab_type": "code",
        "colab": {}
      },
      "source": [
        "stats = model_train(net_pretrained_vgg_19_bn, optimizer, scheduler, stats, epochs=20)"
      ],
      "execution_count": 0,
      "outputs": []
    },
    {
      "cell_type": "code",
      "metadata": {
        "id": "zSnCWMl3D97V",
        "colab_type": "code",
        "colab": {}
      },
      "source": [
        "plot_2d(stats)"
      ],
      "execution_count": 0,
      "outputs": []
    },
    {
      "cell_type": "code",
      "metadata": {
        "id": "hPoVUrynudTw",
        "colab_type": "code",
        "colab": {}
      },
      "source": [
        "#Test\n",
        "#model_test(valid_dataloader, net_pretrained_vgg_19, net2=[net_pretrained_vgg_11, net_pretrained_vgg_19_bn])\n",
        "model_test(test_dataloader, net_pretrained_vgg_19, net2=[net_pretrained_vgg_11, net_pretrained_vgg_19_bn])"
      ],
      "execution_count": 0,
      "outputs": []
    },
    {
      "cell_type": "markdown",
      "metadata": {
        "id": "Qv7u-IAV7ZNB",
        "colab_type": "text"
      },
      "source": [
        "### Notes\n",
        "Validation set\n",
        "\n",
        "VGG A --> 87.2%\n",
        "\n",
        "VGG E --> 88.6%\n",
        "\n",
        "VGG E with batch normalization (lr = 1e-3, bs = 32) --> 89.7%\n",
        "\n",
        "VGG E with batch normalization (lr = (1e-3)/2, bs = 32) --> 87.9%\n",
        "\n",
        "A+E+Ebn --> 90.3%\n",
        "\n",
        "Test set\n",
        "\n",
        "A+E+Ebn --> 91.2%\n"
      ]
    }
  ]
}